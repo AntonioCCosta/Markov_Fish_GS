{
 "cells": [
  {
   "cell_type": "code",
   "execution_count": 1,
   "id": "ruled-semester",
   "metadata": {},
   "outputs": [
    {
     "data": {
      "text/plain": [
       "<module 'operator_calculations' from '/Users/gautam.sridhar/Documents/Repos/Markov_Fish/utils/operator_calculations.py'>"
      ]
     },
     "execution_count": 1,
     "metadata": {},
     "output_type": "execute_result"
    }
   ],
   "source": [
    "#data format library\n",
    "import h5py\n",
    "\n",
    "#numpy\n",
    "import numpy as np\n",
    "import pandas as pd\n",
    "import numpy.ma as ma\n",
    "%matplotlib inline\n",
    "import matplotlib\n",
    "import matplotlib.pyplot as plt\n",
    "import matplotlib as mpl\n",
    "new_rc_params = {'text.usetex': False,\n",
    "\"svg.fonttype\": 'none'\n",
    "}\n",
    "mpl.rcParams.update(new_rc_params)\n",
    "plt.rcParams[\"font.family\"] = \"Times New Roman\"\n",
    "# %matplotlib notebook\n",
    "import sys\n",
    "sys.path.append('/Users/gautam.sridhar/Documents/Repos/Markov_Fish/utils/')\n",
    "import matplotlib.colors as pltcolors\n",
    "import os\n",
    "import copy\n",
    "import clustering_methods as cl\n",
    "import operator_calculations as op_calc\n",
    "import delay_embedding as embed\n",
    "import stats\n",
    "import time\n",
    "\n",
    "np.random.seed(42)\n",
    "\n",
    "import importlib\n",
    "importlib.reload(op_calc)"
   ]
  },
  {
   "cell_type": "code",
   "execution_count": 2,
   "id": "stone-joseph",
   "metadata": {},
   "outputs": [],
   "source": [
    "path_to_filtered_data = '/Users/gautam.sridhar/Documents/Repos/ZebraBouts/Datasets/Full_Data/'\n",
    "f = h5py.File(path_to_filtered_data+'filtered_jmpool_ex5_kin.h5','r')\n",
    "lengths = np.array(f['MetaData/lengths_data'],dtype=int)\n",
    "bouttypes= ma.array(f['bout_types'], dtype=int)\n",
    "# stims = ma.array(f['stims'])\n",
    "# ecs = ma.array(f['eye_convergence'])\n",
    "\n",
    "##shapes are n_fish, max_n_bouts,dim of variable\n",
    "\n",
    "bouttypes_allcond= ma.array(f['bout_types'])\n",
    "stims_allcond = ma.array(f['stims'])\n",
    "ecs_allcond = ma.array(f['eye_convergence'])\n",
    "time_Bout_allcond = ma.array(f['times_bouts']) #raw times bouts\n",
    "\n",
    "#shapes are n_fish, max_n_bouts,dim of variable\n",
    "X_head_allcond = ma.array(f['head_pos'])\n",
    "phi_smooth_allcond = ma.array(f['orientation_smooth'])\n",
    "speeds_head_allcond = ma.array(f['speed_head'])\n",
    "f.close()"
   ]
  },
  {
   "cell_type": "code",
   "execution_count": 3,
   "id": "collective-thousand",
   "metadata": {},
   "outputs": [],
   "source": [
    "time_Bout_allcond[time_Bout_allcond == 0] = ma.masked\n",
    "X_head_allcond[X_head_allcond == 0] = ma.masked\n",
    "phi_smooth_allcond[phi_smooth_allcond == 0] = ma.masked\n",
    "speeds_head_allcond[phi_smooth_allcond.mask] = ma.masked\n",
    "bouttypes_allcond[bouttypes_allcond == 15] = ma.masked\n",
    "ecs_allcond[ecs_allcond == 100] = ma.masked"
   ]
  },
  {
   "cell_type": "code",
   "execution_count": 4,
   "id": "confidential-reconstruction",
   "metadata": {},
   "outputs": [],
   "source": [
    "condition_labels = ['Light (5x5cm)','Light (1x5cm)','Looming(5x5cm)','ChasingDot coarsespeeds(5x5cm)','ChasingDot finespeeds(5x5cm)','Dark_Transitions(5x5cm)',\n",
    "                    'Phototaxis','Optomotor Response (1x5cm)','Optokinetic Response (5x5cm)','Dark (5x5cm)','3 min Light<->Dark(5x5cm)',\n",
    "                    'Prey Capture Param. (2.5x2.5cm)','Prey Capture Param. RW. (2.5x2.5cm)',\n",
    "                    'Prey Capture Rot.(2.5x2.5cm)','Prey capture Rot. RW. (2.5x2.5cm)','Light RW. (2.5x2.5cm)']\n",
    "\n",
    "condition_recs = np.array([[515,525],[160,172],[87,148],[43,60],[22,43],[60,87],\n",
    "                           [202,232],[148,160],[172,202],[505,515],[0,22],\n",
    "                           [232,301],[347,445],[301,316],[316,347],\n",
    "                           [445,505]])"
   ]
  },
  {
   "cell_type": "code",
   "execution_count": 5,
   "id": "sixth-settlement",
   "metadata": {},
   "outputs": [],
   "source": [
    "conditions = np.zeros((np.max(condition_recs),2),dtype='object')\n",
    "for k in range(len(condition_recs)):\n",
    "    t0,tf = condition_recs[k]\n",
    "    conditions[t0:tf,0] = np.arange(t0,tf)\n",
    "    conditions[t0:tf,1] = [condition_labels[k] for t in range(t0,tf)]"
   ]
  },
  {
   "cell_type": "code",
   "execution_count": 6,
   "id": "indonesian-humor",
   "metadata": {},
   "outputs": [],
   "source": [
    "recs_remove = np.load('/Users/gautam.sridhar/Documents/Repos/ZebraBouts/Datasets/Full_Data/recs_remove.npy')"
   ]
  },
  {
   "cell_type": "code",
   "execution_count": 7,
   "id": "painted-friend",
   "metadata": {},
   "outputs": [],
   "source": [
    "recs_remove = np.hstack([recs_remove, np.arange(22,60)])"
   ]
  },
  {
   "cell_type": "code",
   "execution_count": 8,
   "id": "elder-vertical",
   "metadata": {},
   "outputs": [],
   "source": [
    "conditions = np.delete(conditions, recs_remove, axis=0)"
   ]
  },
  {
   "cell_type": "code",
   "execution_count": 9,
   "id": "mediterranean-hydrogen",
   "metadata": {},
   "outputs": [
    {
     "name": "stdout",
     "output_type": "stream",
     "text": [
      "[ 90 260 264 270 276 352 358 364 375 381 383 392 398 404 410 416 422 427\n",
      " 433 439 450 456 467 497  22  23  24  25  26  27  28  29  30  31  32  33\n",
      "  34  35  36  37  38  39  40  41  42  43  44  45  46  47  48  49  50  51\n",
      "  52  53  54  55  56  57  58  59]\n"
     ]
    }
   ],
   "source": [
    "print(recs_remove)"
   ]
  },
  {
   "cell_type": "code",
   "execution_count": 10,
   "id": "becoming-arizona",
   "metadata": {},
   "outputs": [],
   "source": [
    "X_head_allcond = np.delete(X_head_allcond, recs_remove, axis=0)\n",
    "X_head_allcond[X_head_allcond == 0] = ma.masked\n",
    "\n",
    "time_Bout_allcond = np.delete(time_Bout_allcond,recs_remove, axis=0)\n",
    "time_Bout_allcond[time_Bout_allcond == 0] = ma.masked\n",
    "\n",
    "phi_smooth_allcond = np.delete(phi_smooth_allcond, recs_remove, axis=0)\n",
    "phi_smooth_allcond[phi_smooth_allcond == 0] = ma.masked\n",
    "speeds_head_allcond = np.delete(speeds_head_allcond, recs_remove,axis=0)\n",
    "speeds_head_allcond[phi_smooth_allcond.mask] = ma.masked\n",
    "\n",
    "stims_allcond = np.delete(stims_allcond, recs_remove, axis=0)\n",
    "stims_allcond[stims_allcond == 100] = ma.masked\n",
    "\n",
    "ecs_allcond = np.delete(ecs_allcond, recs_remove, axis=0)\n",
    "ecs_allcond[ecs_allcond == 100] = ma.masked"
   ]
  },
  {
   "cell_type": "code",
   "execution_count": 11,
   "id": "progressive-stage",
   "metadata": {},
   "outputs": [],
   "source": [
    "## Load symbolic sequences\n",
    "\n",
    "path_to_filtered_data = '/Users/gautam.sridhar/Documents/Repos/Markov_Fish/Datasets/JM_Data/'\n",
    "f = h5py.File(path_to_filtered_data + 'kmeans_labels_K5_N1200_s8684.h5')\n",
    "lengths_all = np.array(f['MetaData/lengths_data'], dtype=int)\n",
    "labels_fish_allrec = ma.array(f['labels_fish'],dtype=int)\n",
    "state_trajs = ma.array(f['state_trajs'])\n",
    "f.close()\n",
    "\n",
    "# lengths_all = np.load('/Users/gautam.sridhar/Documents/Repos/ZebraBouts/Datasets/Full_Data/lengths_ex2_recordings.npy')\n",
    "# lengths_all = lengths"
   ]
  },
  {
   "cell_type": "code",
   "execution_count": 12,
   "id": "talented-institute",
   "metadata": {},
   "outputs": [],
   "source": [
    "# recs_ = np.asarray(conditions[:,0], dtype=int)\n",
    "\n",
    "to_mask = 1300\n",
    "\n",
    "# maxL = np.max(lengths_all[recs_])\n",
    "maxL = np.max(lengths_all)\n",
    "\n",
    "labels_fish_allrec[labels_fish_allrec == to_mask] = ma.masked\n",
    "\n",
    "# labels_fishrec = to_mask * ma.ones((len(recs_), maxL))\n",
    "# labels_fishrec = labels_fish_allrec[recs_,:maxL+2]\n",
    "# labels_fishrec = np.delete(labels_fishrec,4,0)\n",
    "\n",
    "# labels_fishrec[labels_fishrec == to_mask] = ma.masked\n",
    "labels_fish = labels_fish_allrec\n",
    "\n",
    "# lengths_rem = np.delete(lengths_all, recs_remove)\n",
    "lengths_rem = lengths_all"
   ]
  },
  {
   "cell_type": "code",
   "execution_count": 13,
   "id": "approved-force",
   "metadata": {},
   "outputs": [
    {
     "name": "stdout",
     "output_type": "stream",
     "text": [
      "(463, 11651)\n"
     ]
    }
   ],
   "source": [
    "## Select Dataset\n",
    "np.random.seed(42)\n",
    "seeds = np.random.randint(0,10000,100)\n",
    "delay_range = np.arange(1,20,1)\n",
    "dt = 1\n",
    "div= 463\n",
    "n_modes=50\n",
    "labels_all= ma.concatenate(labels_fish,axis=0)\n",
    "print(labels_fish.shape)"
   ]
  },
  {
   "cell_type": "code",
   "execution_count": 14,
   "id": "streaming-facility",
   "metadata": {},
   "outputs": [],
   "source": [
    "P_ensemble = np.load('/Users/gautam.sridhar/Documents/Repos/ZebraBouts/Datasets/Full_Data/P_ensemble_ex8_N1200_s8684.npy')"
   ]
  },
  {
   "cell_type": "code",
   "execution_count": 16,
   "id": "existing-excitement",
   "metadata": {},
   "outputs": [],
   "source": [
    "from scipy.sparse import diags,identity,coo_matrix, csr_matrix\n",
    "P_ensemble = csr_matrix(P_ensemble)"
   ]
  },
  {
   "cell_type": "code",
   "execution_count": 17,
   "id": "lovely-delivery",
   "metadata": {},
   "outputs": [
    {
     "name": "stdout",
     "output_type": "stream",
     "text": [
      "3\n"
     ]
    }
   ],
   "source": [
    "import msmtools.estimation as msm_estimation\n",
    "delay = 3\n",
    "dt = 1\n",
    "print(delay)\n",
    "# lcs_ensemble,P_ensemble = op_calc.transition_matrix(labels_all,delay,return_connected=True)\n",
    "lcs_ensemble = msm_estimation.largest_connected_set(P_ensemble)\n",
    "inv_measure = op_calc.stationary_distribution(P_ensemble)\n",
    "final_labels = op_calc.get_connected_labels(labels_all,lcs_ensemble)\n",
    "R = op_calc.get_reversible_transition_matrix(P_ensemble)\n",
    "eigvals,eigvecs = op_calc.sorted_spectrum(R,k=10,seed=123)\n",
    "sorted_indices = np.argsort(eigvals.real)[::-1]\n",
    "eigvals = eigvals[sorted_indices][1:].real\n",
    "eigvals[np.abs(eigvals-1)<1e-12] = np.nan\n",
    "eigvals[eigvals<1e-12] = np.nan\n",
    "t_imp =  -(delay*dt)/np.log(np.abs(eigvals))\n",
    "eigfunctions = eigvecs.real/np.linalg.norm(eigvecs.real,axis=0)\n",
    "eigfunctions_traj = ma.array(eigfunctions)[final_labels,:]\n",
    "eigfunctions_traj[final_labels.mask] = ma.masked"
   ]
  },
  {
   "cell_type": "code",
   "execution_count": 18,
   "id": "informed-lender",
   "metadata": {},
   "outputs": [],
   "source": [
    "split_locs = []\n",
    "distorted_eigfs = np.zeros((eigfunctions.shape[0], eigfunctions.shape[1]-1))\n",
    "for i in range(1,eigfunctions.shape[1]):\n",
    "    phi = eigfunctions[:,i]\n",
    "    _,_,_,split_idx,_ = op_calc.optimal_partition(phi,inv_measure,P_ensemble,return_rho=True)\n",
    "\n",
    "    sort_range = np.sort(phi)\n",
    "    neg_range = np.linspace(-1,0, len(sort_range[0:split_idx]))\n",
    "    pos_range = np.linspace(0,1,len(sort_range[split_idx:]))\n",
    "    distort_r = np.hstack([neg_range,pos_range])\n",
    "    distort = np.zeros(phi.shape)\n",
    "\n",
    "    pos = [np.where(phi == a)[0][0] for a in np.sort(phi)]\n",
    "\n",
    "    for j in range(phi.shape[0]):\n",
    "        distort[pos[j]] = distort_r[j]\n",
    "\n",
    "    distorted_eigfs[:,i-1] = distort\n",
    "    split_locs.append(split_idx)"
   ]
  },
  {
   "cell_type": "code",
   "execution_count": 19,
   "id": "emotional-indiana",
   "metadata": {},
   "outputs": [],
   "source": [
    "distorted_trajs = ma.array(distorted_eigfs)[final_labels,:]\n",
    "distorted_trajs[final_labels.mask] = ma.masked\n",
    "\n",
    "distorted_fish = distorted_trajs.reshape(labels_fish.shape[0], labels_fish.shape[1], -1)\n",
    "\n",
    "dtrajs_fish_phi1 = distorted_fish[:,:,0]\n",
    "dtrajs_fish_phi2 = distorted_fish[:,:,1]"
   ]
  },
  {
   "cell_type": "code",
   "execution_count": 20,
   "id": "bound-andorra",
   "metadata": {},
   "outputs": [],
   "source": [
    "kms = np.load('/Users/gautam.sridhar/Documents/Repos/ZebraBouts/Results/pool_ex8_PCs/cg2_labels.npy')\n",
    "kmeans_labels = kms\n",
    "cluster_traj_all = ma.copy(final_labels)\n",
    "cluster_traj_all[~final_labels.mask] = ma.array(kmeans_labels)[final_labels[~final_labels.mask]]\n",
    "cluster_traj_all[final_labels.mask] = ma.masked\n",
    "\n",
    "cluster_fish = cluster_traj_all.reshape(labels_fish.shape[0],labels_fish.shape[1])\n",
    "cluster_fish_mask = cluster_fish.mask"
   ]
  },
  {
   "cell_type": "markdown",
   "id": "steady-nursery",
   "metadata": {},
   "source": [
    "### Light 5x5"
   ]
  },
  {
   "cell_type": "code",
   "execution_count": 21,
   "id": "unlimited-spirituality",
   "metadata": {},
   "outputs": [
    {
     "name": "stdout",
     "output_type": "stream",
     "text": [
      "Light (5x5cm)\n",
      "[453 454 455 456 457 458 459 460 461 462]\n"
     ]
    }
   ],
   "source": [
    "cond = 0\n",
    "print(condition_labels[cond])\n",
    "cond_recs = np.where(conditions[:,1] == condition_labels[cond])[0]\n",
    "print(cond_recs)\n",
    "\n",
    "# a = np.arange(condition_recs[9][0],condition_recs[9][1])\n",
    "# b = np.arange(condition_recs[5][0],condition_recs[5][1])\n",
    "\n",
    "# recs_ind = np.hstack([a,b])\n",
    "\n",
    "maxL = np.max(lengths_rem[cond_recs])"
   ]
  },
  {
   "cell_type": "code",
   "execution_count": 22,
   "id": "peaceful-teacher",
   "metadata": {},
   "outputs": [
    {
     "name": "stdout",
     "output_type": "stream",
     "text": [
      "2583\n"
     ]
    }
   ],
   "source": [
    "print(maxL)\n",
    "\n",
    "time_Bout = time_Bout_allcond[cond_recs,:maxL]\n",
    "X_head = X_head_allcond[cond_recs,:maxL]\n",
    "\n",
    "stims = stims_allcond[cond_recs, :maxL]\n",
    "bouttypes = bouttypes_allcond[cond_recs, :maxL]"
   ]
  },
  {
   "cell_type": "code",
   "execution_count": 23,
   "id": "martial-reach",
   "metadata": {},
   "outputs": [
    {
     "name": "stdout",
     "output_type": "stream",
     "text": [
      "(10, 2583)\n"
     ]
    }
   ],
   "source": [
    "# recs_ind = np.hstack([a,b])\n",
    "\n",
    "maxL = np.max(lengths_rem[cond_recs])\n",
    "# maxL = np.max(lengths_all[recs_ind])\n",
    "\n",
    "dtrajs_condition_phi1 = dtrajs_fish_phi1[cond_recs,:maxL]\n",
    "dtrajs_condition_phi2 = dtrajs_fish_phi2[cond_recs,:maxL]\n",
    "\n",
    "# dtrajs_condition = dtrajs_fish[recs_ind,:maxL]\n",
    "print(dtrajs_condition_phi2.shape)"
   ]
  },
  {
   "cell_type": "code",
   "execution_count": 24,
   "id": "corresponding-government",
   "metadata": {},
   "outputs": [
    {
     "name": "stderr",
     "output_type": "stream",
     "text": [
      "<ipython-input-24-14c99612964f>:20: UserWarning: linewidths is ignored by contourf\n",
      "  im = ax.contourf(X,Y, img, cmap='Reds', linewidths=2, levels = 17)\n"
     ]
    },
    {
     "data": {
      "image/png": "[encoded data removed]",
      "text/plain": [
       "<Figure size 504x504 with 1 Axes>"
      ]
     },
     "metadata": {
      "needs_background": "light"
     },
     "output_type": "display_data"
    }
   ],
   "source": [
    "fig, ax  = plt.subplots(1,1,figsize=(7, 7))\n",
    "\n",
    "# psi1[ecs_all.mask] = ma.masked\n",
    "# psi2[ecs_all.mask] = ma.masked\n",
    "\n",
    "xrange=[-1.2, +1.2]\n",
    "yrange=[-1.2, +1.2]\n",
    "\n",
    "\n",
    "psi1 = ma.concatenate(dtrajs_condition_phi1, axis=0)\n",
    "psi2 = ma.concatenate(dtrajs_condition_phi2, axis=0)\n",
    "\n",
    "\n",
    "# img= stats.density_plot(psi1.compressed()[::100], psi2.compressed()[::100], xrange, yrange, 50,50,smooth=True, border=3)\n",
    "\n",
    "img= stats.density_plot(psi1.compressed(), psi2.compressed(), xrange, yrange, 50,50,smooth=True, border=3)\n",
    "\n",
    "\n",
    "X,Y = np.meshgrid(np.linspace(-1.2,1.2,56), np.linspace(-1.2,1.2,56))\n",
    "im = ax.contourf(X,Y, img, cmap='Reds', linewidths=2, levels = 17)\n",
    "\n",
    "\n",
    "# im = ax.imshow(img, cmap='inferno', origin='lower')\n",
    "\n",
    "ax.spines['top'].set_visible(False)\n",
    "ax.spines['right'].set_visible(False)\n",
    "# fig.colorbar(im, ax=ax)\n",
    "\n",
    "# plt.savefig('/Users/gautam.sridhar/Documents/ZENITH/Figures/Fig3/lightlarge_mes_new.pdf')"
   ]
  },
  {
   "cell_type": "code",
   "execution_count": 25,
   "id": "boxed-defendant",
   "metadata": {},
   "outputs": [
    {
     "name": "stdout",
     "output_type": "stream",
     "text": [
      "Light (5x5cm)\n",
      "(10, 2583)\n"
     ]
    }
   ],
   "source": [
    "cond = 0\n",
    "print(condition_labels[cond])\n",
    "cond_recs = np.where(conditions[:,1] == condition_labels[cond])[0]\n",
    "\n",
    "maxL = np.max(lengths_rem[cond_recs])\n",
    "# maxL = np.max(lengths_all[recs_ind])\n",
    "\n",
    "cluster_fish_condition = cluster_fish[cond_recs,:maxL]\n",
    "print(cluster_fish_condition.shape)\n",
    "# cluster_traj = cluster_traj_all"
   ]
  },
  {
   "cell_type": "code",
   "execution_count": 26,
   "id": "uniform-brave",
   "metadata": {},
   "outputs": [
    {
     "name": "stdout",
     "output_type": "stream",
     "text": [
      "453\n",
      "454\n",
      "455\n",
      "456\n",
      "457\n",
      "458\n",
      "459\n",
      "460\n",
      "461\n",
      "462\n"
     ]
    }
   ],
   "source": [
    "time_Bout[time_Bout==0] = ma.masked\n",
    "fps = 700.\n",
    "lifetimessec_fish = [[],[],[],[]]\n",
    "for i,cf in enumerate(cond_recs):\n",
    "    print(cf)\n",
    "    time_states = []\n",
    "    for ms in np.unique(kms):\n",
    "        sel = cluster_fish_condition[i] == ms\n",
    "        segments = np.where(np.abs(np.diff(np.concatenate([[False], sel, [False]]))))[0].reshape(-1, 2)\n",
    "        times = []\n",
    "        for segment in segments:\n",
    "            t0,tf = segment\n",
    "            time_dur = (time_Bout[i,tf-1][1] - time_Bout[i,t0][0])/fps\n",
    "            if time_dur > 0:\n",
    "                times.append(time_dur)\n",
    "        lifetimessec_fish[ms].append(times)"
   ]
  },
  {
   "cell_type": "code",
   "execution_count": 27,
   "id": "powered-guess",
   "metadata": {
    "scrolled": true
   },
   "outputs": [
    {
     "name": "stdout",
     "output_type": "stream",
     "text": [
      "0\n",
      "1\n",
      "2\n",
      "3\n",
      "4\n",
      "5\n",
      "6\n",
      "7\n",
      "8\n",
      "9\n",
      "0\n",
      "1\n",
      "2\n",
      "3\n",
      "4\n",
      "5\n",
      "6\n",
      "7\n",
      "8\n",
      "9\n"
     ]
    }
   ],
   "source": [
    "hr_real = [[],[],[],[]]\n",
    "real_ciu = [[],[],[],[]]\n",
    "real_cil = [[],[],[],[]]\n",
    "for ms in np.unique(kms):\n",
    "    dwell_times_real = lifetimessec_fish[ms]\n",
    "    for cf in range(len(dwell_times_real)):\n",
    "        print(cf)\n",
    "        m, cil, ciu = stats.bootstrap(ma.hstack(dwell_times_real[cf]), n_times=100, n_samples=len(ma.hstack(dwell_times_real[cf])))\n",
    "        hr_real[ms].append(m)\n",
    "        real_cil[ms].append(np.hstack(cil))\n",
    "        real_ciu[ms].append(np.hstack(ciu))"
   ]
  },
  {
   "cell_type": "code",
   "execution_count": 31,
   "id": "aggressive-judges",
   "metadata": {},
   "outputs": [
    {
     "name": "stdout",
     "output_type": "stream",
     "text": [
      "1.1884074954589168 [0.9860139473971407] [1.9397645770037464]\n",
      "5.8426129666670015 [3.979027721361443] [8.781452581032411]\n"
     ]
    },
    {
     "data": {
      "image/png": "[encoded data removed]",
      "text/plain": [
       "<Figure size 432x288 with 1 Axes>"
      ]
     },
     "metadata": {
      "needs_background": "light"
     },
     "output_type": "display_data"
    }
   ],
   "source": [
    "st_colors = ['#1F50A3','#D04D49']\n",
    "\n",
    "for ms in np.unique(kms):\n",
    "    m, cil, ciu = stats.bootstrap(np.asarray(hr_real[ms]), n_times=1000, median=True)\n",
    "    print(m,cil,ciu)\n",
    "    plt.scatter(0.03*np.random.randn(np.asarray(hr_real[ms]).shape[0])+ms, np.asarray(hr_real[ms]), s=50, alpha=.35, color=st_colors[ms])\n",
    "    plt.errorbar(ms, m,[[m-cil[0]], [ciu[0]-m]], fmt='o', elinewidth=3, capsize=10, capthick=3, color=st_colors[ms])\n",
    "# plt.savefig('/Users/gautam.sridhar/Documents/ZENITH/Figures/Fig3/lightlarge_mean_dt.pdf')\n",
    "#     plt.yscale('log')"
   ]
  },
  {
   "cell_type": "markdown",
   "id": "allied-origin",
   "metadata": {},
   "source": [
    "### Light 1x5"
   ]
  },
  {
   "cell_type": "code",
   "execution_count": 32,
   "id": "artistic-petroleum",
   "metadata": {},
   "outputs": [
    {
     "name": "stdout",
     "output_type": "stream",
     "text": [
      "Light (1x5cm)\n"
     ]
    }
   ],
   "source": [
    "cond = 1\n",
    "print(condition_labels[cond])\n",
    "cond_recs = np.where(conditions[:,1] == condition_labels[cond])[0]\n",
    "\n",
    "# a = np.arange(condition_recs[9][0],condition_recs[9][1])\n",
    "# b = np.arange(condition_recs[5][0],condition_recs[5][1])\n",
    "\n",
    "# recs_ind = np.hstack([a,b])\n",
    "\n",
    "maxL = np.max(lengths_rem[cond_recs])"
   ]
  },
  {
   "cell_type": "code",
   "execution_count": 33,
   "id": "resident-guard",
   "metadata": {},
   "outputs": [
    {
     "name": "stdout",
     "output_type": "stream",
     "text": [
      "4913\n"
     ]
    }
   ],
   "source": [
    "print(maxL)\n",
    "\n",
    "time_Bout = time_Bout_allcond[cond_recs,:maxL]\n",
    "X_head = X_head_allcond[cond_recs,:maxL]\n",
    "\n",
    "stims = stims_allcond[cond_recs, :maxL]\n",
    "bouttypes = bouttypes_allcond[cond_recs, :maxL]"
   ]
  },
  {
   "cell_type": "code",
   "execution_count": 34,
   "id": "offshore-trauma",
   "metadata": {},
   "outputs": [
    {
     "name": "stdout",
     "output_type": "stream",
     "text": [
      "(12, 4913)\n"
     ]
    }
   ],
   "source": [
    "# recs_ind = np.hstack([a,b])\n",
    "\n",
    "dtrajs_condition_phi1 = dtrajs_fish_phi1[cond_recs,:maxL]\n",
    "dtrajs_condition_phi2 = dtrajs_fish_phi2[cond_recs,:maxL]\n",
    "\n",
    "# dtrajs_condition = dtrajs_fish[recs_ind,:maxL]\n",
    "print(dtrajs_condition_phi2.shape)"
   ]
  },
  {
   "cell_type": "code",
   "execution_count": 35,
   "id": "ultimate-mailman",
   "metadata": {},
   "outputs": [
    {
     "name": "stderr",
     "output_type": "stream",
     "text": [
      "<ipython-input-35-f8ea79e74f22>:20: UserWarning: linewidths is ignored by contourf\n",
      "  im = ax.contourf(X,Y, img, cmap='Reds', linewidths=2, levels = 17)\n"
     ]
    },
    {
     "data": {
      "image/png": "[encoded data removed]",
      "text/plain": [
       "<Figure size 504x504 with 1 Axes>"
      ]
     },
     "metadata": {
      "needs_background": "light"
     },
     "output_type": "display_data"
    }
   ],
   "source": [
    "fig, ax  = plt.subplots(1,1,figsize=(7, 7))\n",
    "\n",
    "# psi1[ecs_all.mask] = ma.masked\n",
    "# psi2[ecs_all.mask] = ma.masked\n",
    "\n",
    "xrange=[-1.2, +1.2]\n",
    "yrange=[-1.2, +1.2]\n",
    "\n",
    "\n",
    "psi1 = ma.concatenate(dtrajs_condition_phi1, axis=0)\n",
    "psi2 = ma.concatenate(dtrajs_condition_phi2, axis=0)\n",
    "\n",
    "\n",
    "# img= stats.density_plot(psi1.compressed()[::100], psi2.compressed()[::100], xrange, yrange, 50,50,smooth=True, border=3)\n",
    "\n",
    "img= stats.density_plot(psi1.compressed(), psi2.compressed(), xrange, yrange, 50,50,smooth=True, border=3)\n",
    "\n",
    "\n",
    "X,Y = np.meshgrid(np.linspace(-1.2,1.2,56), np.linspace(-1.2,1.2,56))\n",
    "im = ax.contourf(X,Y, img, cmap='Reds', linewidths=2, levels = 17)\n",
    "\n",
    "\n",
    "# im = ax.imshow(img, cmap='inferno', origin='lower')\n",
    "\n",
    "ax.spines['top'].set_visible(False)\n",
    "ax.spines['right'].set_visible(False)\n",
    "# fig.colorbar(im, ax=ax)\n",
    "\n",
    "# plt.savefig('/Users/gautam.sridhar/Documents/ZENITH/Figures/Fig3/lightsmall_mes_new.pdf')"
   ]
  },
  {
   "cell_type": "code",
   "execution_count": 36,
   "id": "academic-basement",
   "metadata": {},
   "outputs": [
    {
     "name": "stdout",
     "output_type": "stream",
     "text": [
      "Light (1x5cm)\n",
      "(12, 4913)\n"
     ]
    }
   ],
   "source": [
    "cond = 1\n",
    "print(condition_labels[cond])\n",
    "cond_recs = np.where(conditions[:,1] == condition_labels[cond])[0]\n",
    "\n",
    "maxL = np.max(lengths_rem[cond_recs])\n",
    "# maxL = np.max(lengths_all[recs_ind])\n",
    "\n",
    "cluster_fish_condition = cluster_fish[cond_recs,:maxL]\n",
    "print(cluster_fish_condition.shape)\n",
    "# cluster_traj = cluster_traj_all"
   ]
  },
  {
   "cell_type": "code",
   "execution_count": 37,
   "id": "desirable-maryland",
   "metadata": {},
   "outputs": [
    {
     "name": "stdout",
     "output_type": "stream",
     "text": [
      "121\n",
      "122\n",
      "123\n",
      "124\n",
      "125\n",
      "126\n",
      "127\n",
      "128\n",
      "129\n",
      "130\n",
      "131\n",
      "132\n"
     ]
    }
   ],
   "source": [
    "time_Bout[time_Bout==0] = ma.masked\n",
    "fps = 700.\n",
    "lifetimessec_fish = [[],[],[],[]]\n",
    "for i,cf in enumerate(cond_recs):\n",
    "    print(cf)\n",
    "    time_states = []\n",
    "    for ms in np.unique(kms):\n",
    "        sel = cluster_fish_condition[i] == ms\n",
    "        segments = np.where(np.abs(np.diff(np.concatenate([[False], sel, [False]]))))[0].reshape(-1, 2)\n",
    "        times = []\n",
    "        for segment in segments:\n",
    "            t0,tf = segment\n",
    "            time_dur = (time_Bout[i,tf-1][1] - time_Bout[i,t0][0])/fps\n",
    "            if time_dur > 0:\n",
    "                times.append(time_dur)\n",
    "        lifetimessec_fish[ms].append(times)"
   ]
  },
  {
   "cell_type": "code",
   "execution_count": 38,
   "id": "interior-headquarters",
   "metadata": {
    "scrolled": true
   },
   "outputs": [
    {
     "name": "stdout",
     "output_type": "stream",
     "text": [
      "0\n",
      "1\n",
      "2\n",
      "3\n",
      "4\n",
      "5\n",
      "6\n",
      "7\n",
      "8\n",
      "9\n",
      "10\n",
      "11\n",
      "0\n",
      "1\n",
      "2\n",
      "3\n",
      "4\n",
      "5\n",
      "6\n",
      "7\n",
      "8\n",
      "9\n",
      "10\n",
      "11\n"
     ]
    }
   ],
   "source": [
    "hr_real = [[],[],[],[]]\n",
    "real_ciu = [[],[],[],[]]\n",
    "real_cil = [[],[],[],[]]\n",
    "for ms in np.unique(kms):\n",
    "    dwell_times_real = lifetimessec_fish[ms]\n",
    "    for cf in range(len(dwell_times_real)):\n",
    "        print(cf)\n",
    "        m, cil, ciu = stats.bootstrap(ma.hstack(dwell_times_real[cf]), n_times=100, n_samples=len(ma.hstack(dwell_times_real[cf])))\n",
    "        hr_real[ms].append(m)\n",
    "        real_cil[ms].append(np.hstack(cil))\n",
    "        real_ciu[ms].append(np.hstack(ciu))"
   ]
  },
  {
   "cell_type": "code",
   "execution_count": 39,
   "id": "weekly-diameter",
   "metadata": {},
   "outputs": [
    {
     "name": "stdout",
     "output_type": "stream",
     "text": [
      "1.6680000420203378 [1.3541320961505914] [2.311401715137957]\n",
      "2.216526016164958 [1.9742973774691568] [2.331472721538947]\n"
     ]
    },
    {
     "data": {
      "text/plain": [
       "(1.0, 4.0)"
      ]
     },
     "execution_count": 39,
     "metadata": {},
     "output_type": "execute_result"
    },
    {
     "data": {
      "image/png": "[encoded data removed]",
      "text/plain": [
       "<Figure size 432x288 with 1 Axes>"
      ]
     },
     "metadata": {
      "needs_background": "light"
     },
     "output_type": "display_data"
    }
   ],
   "source": [
    "st_colors = ['#1F50A3','#D04D49']\n",
    "\n",
    "for ms in np.unique(kms):\n",
    "    m, cil, ciu = stats.bootstrap(np.asarray(hr_real[ms]), n_times=1000,median=True)\n",
    "    print(m,cil,ciu)\n",
    "    plt.scatter(0.03*np.random.randn(np.asarray(hr_real[ms]).shape[0])+ms, np.asarray(hr_real[ms]), s=50, alpha=.35, color=st_colors[ms])\n",
    "    plt.errorbar(ms, m,[[m-cil[0]], [ciu[0]-m]], fmt='o', elinewidth=3, capsize=10, capthick=3, color=st_colors[ms])\n",
    "plt.ylim(1,4)\n",
    "# plt.savefig('/Users/gautam.sridhar/Documents/ZENITH/Figures/Fig3/lightsmall_mean_dt.pdf')\n",
    "#     plt.yscale('log')"
   ]
  },
  {
   "cell_type": "markdown",
   "id": "rolled-rochester",
   "metadata": {},
   "source": [
    "### Dark 5x5"
   ]
  },
  {
   "cell_type": "code",
   "execution_count": 40,
   "id": "prepared-nashville",
   "metadata": {},
   "outputs": [
    {
     "name": "stdout",
     "output_type": "stream",
     "text": [
      "Dark_Transitions(5x5cm)\n",
      "Dark (5x5cm)\n"
     ]
    }
   ],
   "source": [
    "# Select condition\n",
    "\n",
    "# cond = 5\n",
    "print(condition_labels[5])\n",
    "print(condition_labels[9])\n",
    "# start_rec = condition_recs[cond][0]\n",
    "# end_rec = condition_recs[cond][1]\n",
    "\n",
    "a = np.where(conditions[:,1] == condition_labels[9])[0]\n",
    "b = np.where(conditions[:,1] == condition_labels[5])[0]\n",
    "\n",
    "recs_ind = np.hstack([a,b])\n",
    "maxL = np.max(lengths_rem[recs_ind])"
   ]
  },
  {
   "cell_type": "code",
   "execution_count": 41,
   "id": "chicken-universal",
   "metadata": {},
   "outputs": [
    {
     "name": "stdout",
     "output_type": "stream",
     "text": [
      "10208\n"
     ]
    }
   ],
   "source": [
    "print(maxL)\n",
    "\n",
    "time_Bout = time_Bout_allcond[recs_ind,:maxL]\n",
    "X_head = X_head_allcond[recs_ind,:maxL]\n",
    "\n",
    "stims = stims_allcond[recs_ind, :maxL]\n",
    "bouttypes = bouttypes_allcond[recs_ind, :maxL]"
   ]
  },
  {
   "cell_type": "code",
   "execution_count": 42,
   "id": "capable-overhead",
   "metadata": {},
   "outputs": [
    {
     "name": "stdout",
     "output_type": "stream",
     "text": [
      "(37, 10208)\n"
     ]
    }
   ],
   "source": [
    "dtrajs_condition_phi1 = dtrajs_fish_phi1[recs_ind,:maxL]\n",
    "dtrajs_condition_phi2 = dtrajs_fish_phi2[recs_ind,:maxL]\n",
    "\n",
    "# dtrajs_condition = dtrajs_fish[recs_ind,:maxL]\n",
    "print(dtrajs_condition_phi2.shape)"
   ]
  },
  {
   "cell_type": "code",
   "execution_count": 43,
   "id": "lightweight-arctic",
   "metadata": {},
   "outputs": [],
   "source": [
    "stims_copy = copy.deepcopy(stims)\n",
    "\n",
    "stims_copy[stims_copy > 0] = ma.masked\n",
    "stims_all = ma.concatenate(stims_copy, axis=0)"
   ]
  },
  {
   "cell_type": "code",
   "execution_count": 44,
   "id": "fewer-princess",
   "metadata": {},
   "outputs": [
    {
     "name": "stderr",
     "output_type": "stream",
     "text": [
      "<ipython-input-44-f6f48944268b>:22: UserWarning: linewidths is ignored by contourf\n",
      "  im = ax.contourf(X,Y, img, cmap='Blues', linewidths=2, levels = 17)\n"
     ]
    },
    {
     "data": {
      "image/png": "[encoded data removed]",
      "text/plain": [
       "<Figure size 504x504 with 1 Axes>"
      ]
     },
     "metadata": {
      "needs_background": "light"
     },
     "output_type": "display_data"
    }
   ],
   "source": [
    "fig, ax  = plt.subplots(1,1,figsize=(7, 7))\n",
    "\n",
    "# psi1[ecs_all.mask] = ma.masked\n",
    "# psi2[ecs_all.mask] = ma.masked\n",
    "\n",
    "xrange=[-1.2, +1.2]\n",
    "yrange=[-1.2, +1.2]\n",
    "\n",
    "\n",
    "psi1 = ma.concatenate(dtrajs_condition_phi1, axis=0)\n",
    "psi2 = ma.concatenate(dtrajs_condition_phi2, axis=0)\n",
    "\n",
    "psi1[stims_all.mask] = ma.masked\n",
    "psi2[stims_all.mask] = ma.masked\n",
    "\n",
    "# img= stats.density_plot(psi1.compressed()[::100], psi2.compressed()[::100], xrange, yrange, 50,50,smooth=True, border=3)\n",
    "\n",
    "img= stats.density_plot(psi1.compressed(), psi2.compressed(), xrange, yrange, 50,50,smooth=True, border=3)\n",
    "\n",
    "\n",
    "X,Y = np.meshgrid(np.linspace(-1.2,1.2,56), np.linspace(-1.2,1.2,56))\n",
    "im = ax.contourf(X,Y, img, cmap='Blues', linewidths=2, levels = 17)\n",
    "\n",
    "\n",
    "# im = ax.imshow(img, cmap='inferno', origin='lower')\n",
    "\n",
    "ax.spines['top'].set_visible(False)\n",
    "ax.spines['right'].set_visible(False)\n",
    "# fig.colorbar(im, ax=ax)\n",
    "\n",
    "# plt.savefig('/Users/gautam.sridhar/Documents/ZENITH/Figures/Fig3/darklarge_mes_new.pdf')"
   ]
  },
  {
   "cell_type": "code",
   "execution_count": 45,
   "id": "pointed-vancouver",
   "metadata": {},
   "outputs": [
    {
     "name": "stdout",
     "output_type": "stream",
     "text": [
      "(37, 10208)\n"
     ]
    }
   ],
   "source": [
    "cluster_fish_condition = cluster_fish[recs_ind,:maxL]\n",
    "print(cluster_fish_condition.shape)\n",
    "# cluster_traj = cluster_traj_all"
   ]
  },
  {
   "cell_type": "code",
   "execution_count": 46,
   "id": "respected-entertainment",
   "metadata": {},
   "outputs": [],
   "source": [
    "dx_recs = np.arange(10,len(recs_ind))\n",
    "min_mark = []\n",
    "for cf in dx_recs:\n",
    "    mm = np.where(time_Bout[cf,:,1] > int(30*60*700))[0]\n",
    "    if len(mm) != 0:\n",
    "        min_mark.append(mm[0])\n",
    "    else:\n",
    "        min_mark.append(lengths_rem[recs_ind][cf])\n",
    "\n",
    "for i,cf in enumerate(dx_recs):\n",
    "    m = min_mark[i]\n",
    "    cluster_fish_condition[cf,m:] = ma.masked"
   ]
  },
  {
   "cell_type": "code",
   "execution_count": 47,
   "id": "union-rubber",
   "metadata": {
    "scrolled": true
   },
   "outputs": [
    {
     "name": "stdout",
     "output_type": "stream",
     "text": [
      "443\n",
      "444\n",
      "445\n",
      "446\n",
      "447\n",
      "448\n",
      "449\n",
      "450\n",
      "451\n",
      "452\n",
      "22\n",
      "23\n",
      "24\n",
      "25\n",
      "26\n",
      "27\n",
      "28\n",
      "29\n",
      "30\n",
      "31\n",
      "32\n",
      "33\n",
      "34\n",
      "35\n",
      "36\n",
      "37\n",
      "38\n",
      "39\n",
      "40\n",
      "41\n",
      "42\n",
      "43\n",
      "44\n",
      "45\n",
      "46\n",
      "47\n",
      "48\n"
     ]
    }
   ],
   "source": [
    "time_Bout[time_Bout==0] = ma.masked\n",
    "fps = 700.\n",
    "lifetimessec_fish = [[],[],[],[]]\n",
    "for i,cf in enumerate(recs_ind):\n",
    "    print(cf)\n",
    "    time_states = []\n",
    "    for ms in np.unique(kms):\n",
    "        sel = cluster_fish_condition[i] == ms\n",
    "        segments = np.where(np.abs(np.diff(np.concatenate([[False], sel, [False]]))))[0].reshape(-1, 2)\n",
    "        times = []\n",
    "        for segment in segments:\n",
    "            t0,tf = segment\n",
    "            time_dur = (time_Bout[i,tf-1][1] - time_Bout[i,t0][0])/fps\n",
    "            if time_dur > 0:\n",
    "                times.append(time_dur)\n",
    "        lifetimessec_fish[ms].append(times)"
   ]
  },
  {
   "cell_type": "code",
   "execution_count": 48,
   "id": "cultural-railway",
   "metadata": {
    "scrolled": true
   },
   "outputs": [
    {
     "name": "stdout",
     "output_type": "stream",
     "text": [
      "0\n",
      "1\n",
      "2\n",
      "3\n",
      "4\n",
      "5\n",
      "6\n",
      "7\n",
      "8\n",
      "9\n",
      "10\n",
      "11\n",
      "12\n",
      "13\n",
      "14\n",
      "15\n",
      "16\n",
      "17\n",
      "18\n",
      "19\n",
      "20\n",
      "21\n",
      "22\n",
      "23\n",
      "24\n",
      "25\n",
      "26\n",
      "27\n",
      "28\n",
      "29\n",
      "30\n",
      "31\n",
      "32\n",
      "33\n",
      "34\n",
      "35\n",
      "36\n",
      "0\n",
      "1\n",
      "2\n",
      "3\n",
      "4\n",
      "5\n",
      "6\n",
      "7\n",
      "8\n",
      "9\n",
      "10\n",
      "11\n",
      "12\n",
      "13\n",
      "14\n",
      "15\n",
      "16\n",
      "17\n",
      "18\n",
      "19\n",
      "20\n",
      "21\n",
      "22\n",
      "23\n",
      "24\n",
      "25\n",
      "26\n",
      "27\n",
      "28\n",
      "29\n",
      "30\n",
      "31\n",
      "32\n",
      "33\n",
      "34\n",
      "35\n",
      "36\n"
     ]
    }
   ],
   "source": [
    "hr_real = [[],[],[],[]]\n",
    "real_ciu = [[],[],[],[]]\n",
    "real_cil = [[],[],[],[]]\n",
    "for ms in np.unique(kms):\n",
    "    dwell_times_real = lifetimessec_fish[ms]\n",
    "    for cf in range(len(dwell_times_real)):\n",
    "        print(cf)\n",
    "        m, cil, ciu = stats.bootstrap(ma.hstack(dwell_times_real[cf]), n_times=100, n_samples=len(ma.hstack(dwell_times_real[cf])))\n",
    "        hr_real[ms].append(m)\n",
    "        real_cil[ms].append(np.hstack(cil))\n",
    "        real_ciu[ms].append(np.hstack(ciu))"
   ]
  },
  {
   "cell_type": "code",
   "execution_count": 49,
   "id": "muslim-rogers",
   "metadata": {},
   "outputs": [
    {
     "name": "stdout",
     "output_type": "stream",
     "text": [
      "8.374029556650246 [6.840651260504202] [11.90174603174603]\n",
      "3.955378151260504 [2.9040775780510875] [5.826533333333333]\n"
     ]
    },
    {
     "data": {
      "text/plain": [
       "(0.0, 30.0)"
      ]
     },
     "execution_count": 49,
     "metadata": {},
     "output_type": "execute_result"
    },
    {
     "data": {
      "image/png": "[encoded data removed]",
      "text/plain": [
       "<Figure size 432x288 with 1 Axes>"
      ]
     },
     "metadata": {
      "needs_background": "light"
     },
     "output_type": "display_data"
    }
   ],
   "source": [
    "st_colors = ['#1F50A3','#D04D49']\n",
    "\n",
    "for ms in np.unique(kms):\n",
    "    m, cil, ciu = stats.bootstrap(np.asarray(hr_real[ms]), n_times=1000, median=True)\n",
    "    print(m,cil,ciu)\n",
    "    plt.scatter(0.03*np.random.randn(np.asarray(hr_real[ms]).shape[0])+ms, np.asarray(hr_real[ms]), s=50, alpha=.35, color=st_colors[ms])\n",
    "    plt.errorbar(ms, m,[[m-cil[0]], [ciu[0]-m]], fmt='o', elinewidth=3, capsize=10, capthick=3, color=st_colors[ms])\n",
    "plt.ylim(0,30)\n",
    "# plt.savefig('/Users/gautam.sridhar/Documents/ZENITH/Figures/Fig3/darklarge_mean_dt.pdf')\n",
    "#     plt.yscale('log')"
   ]
  },
  {
   "cell_type": "markdown",
   "id": "changing-generic",
   "metadata": {},
   "source": [
    "### PC Param Naive 2.5 x 2.5"
   ]
  },
  {
   "cell_type": "code",
   "execution_count": 50,
   "id": "entertaining-puppy",
   "metadata": {},
   "outputs": [
    {
     "name": "stdout",
     "output_type": "stream",
     "text": [
      "Prey Capture Param. (2.5x2.5cm)\n"
     ]
    }
   ],
   "source": [
    "cond = 11\n",
    "print(condition_labels[cond])\n",
    "cond_recs = np.where(conditions[:,1] == condition_labels[cond])[0]\n",
    "\n",
    "# a = np.arange(condition_recs[9][0],condition_recs[9][1])\n",
    "# b = np.arange(condition_recs[5][0],condition_recs[5][1])\n",
    "\n",
    "# recs_ind = np.hstack([a,b])\n",
    "\n",
    "maxL = np.max(lengths_rem[cond_recs])"
   ]
  },
  {
   "cell_type": "code",
   "execution_count": 51,
   "id": "duplicate-bridge",
   "metadata": {},
   "outputs": [
    {
     "name": "stdout",
     "output_type": "stream",
     "text": [
      "3068\n"
     ]
    }
   ],
   "source": [
    "print(maxL)\n",
    "\n",
    "time_Bout = time_Bout_allcond[cond_recs,:maxL]\n",
    "X_head = X_head_allcond[cond_recs,:maxL]\n",
    "\n",
    "\n",
    "ecs_pc = ecs_allcond[cond_recs,:maxL]\n",
    "bouttypes = bouttypes_allcond[cond_recs, :maxL]"
   ]
  },
  {
   "cell_type": "code",
   "execution_count": 52,
   "id": "connected-viking",
   "metadata": {},
   "outputs": [
    {
     "name": "stdout",
     "output_type": "stream",
     "text": [
      "(65, 3068)\n"
     ]
    }
   ],
   "source": [
    "# recs_ind = np.hstack([a,b])\n",
    "\n",
    "dtrajs_condition_phi1 = dtrajs_fish_phi1[cond_recs,:maxL]\n",
    "dtrajs_condition_phi2 = dtrajs_fish_phi2[cond_recs,:maxL]\n",
    "\n",
    "# dtrajs_condition = dtrajs_fish[recs_ind,:maxL]\n",
    "print(dtrajs_condition_phi2.shape)"
   ]
  },
  {
   "cell_type": "code",
   "execution_count": 53,
   "id": "cardiac-proposition",
   "metadata": {},
   "outputs": [],
   "source": [
    "stims_copy = copy.deepcopy(ecs_pc)\n",
    "stims_copy = stims_copy - 1\n",
    "stims_copy[stims_copy == 0] = ma.masked\n",
    "stims_copy_all = ma.concatenate(stims_copy,axis=0)"
   ]
  },
  {
   "cell_type": "code",
   "execution_count": 54,
   "id": "lovely-chambers",
   "metadata": {},
   "outputs": [
    {
     "data": {
      "image/png": "[encoded data removed]",
      "text/plain": [
       "<Figure size 504x504 with 1 Axes>"
      ]
     },
     "metadata": {
      "needs_background": "light"
     },
     "output_type": "display_data"
    }
   ],
   "source": [
    "fig, ax  = plt.subplots(1,1,figsize=(7, 7))\n",
    "\n",
    "# psi1[ecs_all.mask] = ma.masked\n",
    "# psi2[ecs_all.mask] = ma.masked\n",
    "\n",
    "xrange=[-1.2, +1.2]\n",
    "yrange=[-1.2, +1.2]\n",
    "\n",
    "\n",
    "psi1 = ma.concatenate(dtrajs_condition_phi1, axis=0)\n",
    "psi2 = ma.concatenate(dtrajs_condition_phi2, axis=0)\n",
    "\n",
    "psi1[stims_copy_all.mask] = ma.masked\n",
    "psi2[stims_copy_all.mask] = ma.masked\n",
    "\n",
    "# img= stats.density_plot(psi1.compressed()[::100], psi2.compressed()[::100], xrange, yrange, 50,50,smooth=True, border=3)\n",
    "\n",
    "img= stats.density_plot(psi1.compressed(), psi2.compressed(), xrange, yrange, 50,50,smooth=True, border=3)\n",
    "\n",
    "\n",
    "X,Y = np.meshgrid(np.linspace(-1.2,1.2,56), np.linspace(-1.2,1.2,56))\n",
    "im = ax.contour(X,Y, img, cmap='Reds', linewidths=2, levels = 17)\n",
    "\n",
    "\n",
    "# im = ax.imshow(img, cmap='inferno', origin='lower')\n",
    "\n",
    "ax.spines['top'].set_visible(False)\n",
    "ax.spines['right'].set_visible(False)\n",
    "# fig.colorbar(im, ax=ax)\n",
    "\n",
    "# plt.savefig('/Users/gautam.sridhar/Documents/ZENITH/Figures/Fig3/PCparam_naive_ec_new.pdf')"
   ]
  },
  {
   "cell_type": "code",
   "execution_count": 55,
   "id": "wired-shower",
   "metadata": {},
   "outputs": [
    {
     "name": "stdout",
     "output_type": "stream",
     "text": [
      "Prey Capture Param. (2.5x2.5cm)\n",
      "(65, 3068)\n"
     ]
    }
   ],
   "source": [
    "cond = 11\n",
    "print(condition_labels[cond])\n",
    "cond_recs = np.where(conditions[:,1] == condition_labels[cond])[0]\n",
    "\n",
    "maxL = np.max(lengths_rem[cond_recs])\n",
    "# maxL = np.max(lengths_all[recs_ind])\n",
    "\n",
    "cluster_fish_condition = cluster_fish[cond_recs,:maxL]\n",
    "print(cluster_fish_condition.shape)\n",
    "# cluster_traj = cluster_traj_all"
   ]
  },
  {
   "cell_type": "code",
   "execution_count": 56,
   "id": "romantic-property",
   "metadata": {
    "scrolled": true
   },
   "outputs": [
    {
     "name": "stdout",
     "output_type": "stream",
     "text": [
      "193\n",
      "194\n",
      "195\n",
      "196\n",
      "197\n",
      "198\n",
      "199\n",
      "200\n",
      "201\n",
      "202\n",
      "203\n",
      "204\n",
      "205\n",
      "206\n",
      "207\n",
      "208\n",
      "209\n",
      "210\n",
      "211\n",
      "212\n",
      "213\n",
      "214\n",
      "215\n",
      "216\n",
      "217\n",
      "218\n",
      "219\n",
      "220\n",
      "221\n",
      "222\n",
      "223\n",
      "224\n",
      "225\n",
      "226\n",
      "227\n",
      "228\n",
      "229\n",
      "230\n",
      "231\n",
      "232\n",
      "233\n",
      "234\n",
      "235\n",
      "236\n",
      "237\n",
      "238\n",
      "239\n",
      "240\n",
      "241\n",
      "242\n",
      "243\n",
      "244\n",
      "245\n",
      "246\n",
      "247\n",
      "248\n",
      "249\n",
      "250\n",
      "251\n",
      "252\n",
      "253\n",
      "254\n",
      "255\n",
      "256\n",
      "257\n"
     ]
    }
   ],
   "source": [
    "time_Bout[time_Bout==0] = ma.masked\n",
    "fps = 700.\n",
    "lifetimessec_fish = [[],[],[],[]]\n",
    "for i,cf in enumerate(cond_recs):\n",
    "    print(cf)\n",
    "    time_states = []\n",
    "    for ms in np.unique(kms):\n",
    "        sel = cluster_fish_condition[i] == ms\n",
    "        segments = np.where(np.abs(np.diff(np.concatenate([[False], sel, [False]]))))[0].reshape(-1, 2)\n",
    "        times = []\n",
    "        for segment in segments:\n",
    "            t0,tf = segment\n",
    "            time_dur = (time_Bout[i,tf-1][1] - time_Bout[i,t0][0])/fps\n",
    "            if time_dur > 0:\n",
    "                times.append(time_dur)\n",
    "        lifetimessec_fish[ms].append(times)"
   ]
  },
  {
   "cell_type": "code",
   "execution_count": 57,
   "id": "requested-transmission",
   "metadata": {
    "scrolled": true
   },
   "outputs": [
    {
     "name": "stdout",
     "output_type": "stream",
     "text": [
      "0\n",
      "1\n",
      "2\n",
      "3\n",
      "4\n",
      "5\n",
      "6\n",
      "7\n",
      "8\n",
      "9\n",
      "10\n",
      "11\n",
      "12\n",
      "13\n",
      "14\n",
      "15\n",
      "16\n",
      "17\n",
      "18\n",
      "19\n",
      "20\n",
      "21\n",
      "22\n",
      "23\n",
      "24\n",
      "25\n",
      "26\n",
      "27\n",
      "28\n",
      "29\n",
      "30\n",
      "31\n",
      "32\n",
      "33\n",
      "34\n",
      "35\n",
      "36\n",
      "37\n",
      "38\n",
      "39\n",
      "40\n",
      "41\n",
      "42\n",
      "43\n",
      "44\n",
      "45\n",
      "46\n",
      "47\n",
      "48\n",
      "49\n",
      "50\n",
      "51\n",
      "52\n",
      "53\n",
      "54\n",
      "55\n",
      "56\n",
      "57\n",
      "58\n",
      "59\n",
      "60\n",
      "61\n",
      "62\n",
      "63\n",
      "64\n",
      "0\n",
      "1\n",
      "2\n",
      "3\n",
      "4\n",
      "5\n",
      "6\n",
      "7\n",
      "8\n",
      "9\n",
      "10\n",
      "11\n",
      "12\n",
      "13\n",
      "14\n",
      "15\n",
      "16\n",
      "17\n",
      "18\n",
      "19\n",
      "20\n",
      "21\n",
      "22\n",
      "23\n",
      "24\n",
      "25\n",
      "26\n",
      "27\n",
      "28\n",
      "29\n",
      "30\n",
      "31\n",
      "32\n",
      "33\n",
      "34\n",
      "35\n",
      "36\n",
      "37\n",
      "38\n",
      "39\n",
      "40\n",
      "41\n",
      "42\n",
      "43\n",
      "44\n",
      "45\n",
      "46\n",
      "47\n",
      "48\n",
      "49\n",
      "50\n",
      "51\n",
      "52\n",
      "53\n",
      "54\n",
      "55\n",
      "56\n",
      "57\n",
      "58\n",
      "59\n",
      "60\n",
      "61\n",
      "62\n",
      "63\n",
      "64\n"
     ]
    }
   ],
   "source": [
    "hr_real = [[],[],[],[]]\n",
    "real_ciu = [[],[],[],[]]\n",
    "real_cil = [[],[],[],[]]\n",
    "for ms in np.unique(kms):\n",
    "    dwell_times_real = lifetimessec_fish[ms]\n",
    "    for cf in range(len(dwell_times_real)):\n",
    "        print(cf)\n",
    "        m, cil, ciu = stats.bootstrap(ma.hstack(dwell_times_real[cf]), n_times=100, n_samples=len(ma.hstack(dwell_times_real[cf])))\n",
    "        hr_real[ms].append(m)\n",
    "        real_cil[ms].append(np.hstack(cil))\n",
    "        real_ciu[ms].append(np.hstack(ciu))"
   ]
  },
  {
   "cell_type": "code",
   "execution_count": 58,
   "id": "played-discharge",
   "metadata": {},
   "outputs": [
    {
     "name": "stdout",
     "output_type": "stream",
     "text": [
      "4.135706563706564 [3.111638095238095] [4.784647669507358]\n",
      "1.1453451581975072 [1.0301170960187354] [1.2887585577361935]\n"
     ]
    },
    {
     "data": {
      "text/plain": [
       "(0.0, 26.0)"
      ]
     },
     "execution_count": 58,
     "metadata": {},
     "output_type": "execute_result"
    },
    {
     "data": {
      "image/png": "[encoded data removed]",
      "text/plain": [
       "<Figure size 432x288 with 1 Axes>"
      ]
     },
     "metadata": {
      "needs_background": "light"
     },
     "output_type": "display_data"
    }
   ],
   "source": [
    "st_colors = ['#1F50A3','#D04D49']\n",
    "\n",
    "for ms in np.unique(kms):\n",
    "    m, cil, ciu = stats.bootstrap(np.asarray(hr_real[ms]), n_times=1000,median=True)\n",
    "    print(m,cil,ciu)\n",
    "    plt.scatter(0.03*np.random.randn(np.asarray(hr_real[ms]).shape[0])+ms, np.asarray(hr_real[ms]), s=50, alpha=.25, color=st_colors[ms])\n",
    "    plt.errorbar(ms, m,[[m-cil[0]], [ciu[0]-m]], fmt='o', elinewidth=3, capsize=10, capthick=3, color=st_colors[ms])\n",
    "plt.ylim(0,26)\n",
    "# plt.savefig('/Users/gautam.sridhar/Documents/ZENITH/Figures/Fig3/pc_paramnaive_mean_dt.pdf')\n",
    "#     plt.yscale('log')"
   ]
  },
  {
   "cell_type": "code",
   "execution_count": null,
   "id": "front-wisconsin",
   "metadata": {},
   "outputs": [],
   "source": []
  }
 ],
 "metadata": {
  "kernelspec": {
   "display_name": "Python 3",
   "language": "python",
   "name": "python3"
  },
  "language_info": {
   "codemirror_mode": {
    "name": "ipython",
    "version": 3
   },
   "file_extension": ".py",
   "mimetype": "text/x-python",
   "name": "python",
   "nbconvert_exporter": "python",
   "pygments_lexer": "ipython3",
   "version": "3.8.2"
  }
 },
 "nbformat": 4,
 "nbformat_minor": 5
}
