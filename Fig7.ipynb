{
 "cells": [
  {
   "cell_type": "code",
   "execution_count": 1,
   "id": "naughty-belgium",
   "metadata": {},
   "outputs": [
    {
     "data": {
      "text/plain": [
       "<module 'simulation_functions' from '/Users/gautam.sridhar/Documents/Repos/Markov_Fish/utils/simulation_functions.py'>"
      ]
     },
     "execution_count": 1,
     "metadata": {},
     "output_type": "execute_result"
    }
   ],
   "source": [
    "#data format library\n",
    "import h5py\n",
    "\n",
    "#numpy\n",
    "import numpy as np\n",
    "import pandas as pd\n",
    "import numpy.ma as ma\n",
    "%matplotlib inline\n",
    "import matplotlib\n",
    "import matplotlib.pyplot as plt\n",
    "import matplotlib as mpl\n",
    "new_rc_params = {'text.usetex': False,\n",
    "\"svg.fonttype\": 'none'\n",
    "}\n",
    "mpl.rcParams.update(new_rc_params)\n",
    "plt.rcParams[\"font.family\"] = \"Times New Roman\"\n",
    "# %matplotlib notebook\n",
    "import sys\n",
    "sys.path.append('/Users/gautam.sridhar/Documents/Repos/Markov_Fish/utils/')\n",
    "import matplotlib.colors as pltcolors\n",
    "import os\n",
    "import copy\n",
    "import clustering_methods as cl\n",
    "import operator_calculations as op_calc\n",
    "import delay_embedding as embed\n",
    "import stats\n",
    "import time\n",
    "import simulation_functions as sfs\n",
    "\n",
    "np.random.seed(42)\n",
    "\n",
    "import importlib\n",
    "importlib.reload(sfs)"
   ]
  },
  {
   "cell_type": "code",
   "execution_count": 2,
   "id": "sticky-shopper",
   "metadata": {},
   "outputs": [],
   "source": [
    "path_to_filtered_data = '/Users/gautam.sridhar/Documents/Repos/ZebraBouts/Datasets/Full_Data/'\n",
    "f = h5py.File(path_to_filtered_data+'filtered_jmpool_ex5_kin.h5','r')\n",
    "lengths = np.array(f['MetaData/lengths_data'],dtype=int)\n",
    "bouttypes= ma.array(f['bout_types'], dtype=int)\n",
    "# stims = ma.array(f['stims'])\n",
    "# ecs = ma.array(f['eye_convergence'])\n",
    "\n",
    "##shapes are n_fish, max_n_bouts,dim of variable\n",
    "\n",
    "bouttypes_allcond= ma.array(f['bout_types'])\n",
    "stims_allcond = ma.array(f['stims'])\n",
    "ecs_allcond = ma.array(f['eye_convergence'])\n",
    "time_Bout_allcond = ma.array(f['times_bouts']) #raw times bouts\n",
    "\n",
    "#shapes are n_fish, max_n_bouts,dim of variable\n",
    "X_head_allcond = ma.array(f['head_pos'])\n",
    "phi_smooth_allcond = ma.array(f['orientation_smooth'])\n",
    "speeds_head_allcond = ma.array(f['speed_head'])\n",
    "f.close()"
   ]
  },
  {
   "cell_type": "code",
   "execution_count": 3,
   "id": "structural-wrestling",
   "metadata": {},
   "outputs": [],
   "source": [
    "time_Bout_allcond[time_Bout_allcond == 0] = ma.masked\n",
    "X_head_allcond[X_head_allcond == 0] = ma.masked\n",
    "phi_smooth_allcond[phi_smooth_allcond == 0] = ma.masked\n",
    "speeds_head_allcond[phi_smooth_allcond.mask] = ma.masked\n",
    "bouttypes_allcond[bouttypes_allcond == 15] = ma.masked\n",
    "ecs_allcond[ecs_allcond == 100] = ma.masked"
   ]
  },
  {
   "cell_type": "code",
   "execution_count": 4,
   "id": "innovative-tours",
   "metadata": {},
   "outputs": [],
   "source": [
    "condition_labels = ['Light (5x5cm)','Light (1x5cm)','Looming(5x5cm)','ChasingDot coarsespeeds(5x5cm)','ChasingDot finespeeds(5x5cm)','Dark_Transitions(5x5cm)',\n",
    "                    'Phototaxis','Optomotor Response (1x5cm)','Optokinetic Response (5x5cm)','Dark (5x5cm)','3 min Light<->Dark(5x5cm)',\n",
    "                    'Prey Capture Param. (2.5x2.5cm)','Prey Capture Param. RW. (2.5x2.5cm)',\n",
    "                    'Prey Capture Rot.(2.5x2.5cm)','Prey capture Rot. RW. (2.5x2.5cm)','Light RW. (2.5x2.5cm)']\n",
    "\n",
    "condition_recs = np.array([[515,525],[160,172],[87,148],[43,60],[22,43],[60,87],\n",
    "                           [202,232],[148,160],[172,202],[505,515],[0,22],\n",
    "                           [232,301],[347,445],[301,316],[316,347],\n",
    "                           [445,505]])"
   ]
  },
  {
   "cell_type": "code",
   "execution_count": 5,
   "id": "metallic-counter",
   "metadata": {},
   "outputs": [],
   "source": [
    "conditions = np.zeros((np.max(condition_recs),2),dtype='object')\n",
    "for k in range(len(condition_recs)):\n",
    "    t0,tf = condition_recs[k]\n",
    "    conditions[t0:tf,0] = np.arange(t0,tf)\n",
    "    conditions[t0:tf,1] = [condition_labels[k] for t in range(t0,tf)]"
   ]
  },
  {
   "cell_type": "code",
   "execution_count": 6,
   "id": "another-retrieval",
   "metadata": {},
   "outputs": [],
   "source": [
    "recs_remove = np.load('/Users/gautam.sridhar/Documents/Repos/ZebraBouts/Datasets/Full_Data/recs_remove.npy')"
   ]
  },
  {
   "cell_type": "code",
   "execution_count": 7,
   "id": "focused-oxide",
   "metadata": {},
   "outputs": [],
   "source": [
    "recs_remove = np.hstack([recs_remove, np.arange(22,60)])"
   ]
  },
  {
   "cell_type": "code",
   "execution_count": 8,
   "id": "undefined-region",
   "metadata": {},
   "outputs": [],
   "source": [
    "conditions = np.delete(conditions, recs_remove, axis=0)"
   ]
  },
  {
   "cell_type": "code",
   "execution_count": 9,
   "id": "ruled-first",
   "metadata": {},
   "outputs": [
    {
     "name": "stdout",
     "output_type": "stream",
     "text": [
      "[ 90 260 264 270 276 352 358 364 375 381 383 392 398 404 410 416 422 427\n",
      " 433 439 450 456 467 497  22  23  24  25  26  27  28  29  30  31  32  33\n",
      "  34  35  36  37  38  39  40  41  42  43  44  45  46  47  48  49  50  51\n",
      "  52  53  54  55  56  57  58  59]\n"
     ]
    }
   ],
   "source": [
    "print(recs_remove)"
   ]
  },
  {
   "cell_type": "code",
   "execution_count": 10,
   "id": "three-klein",
   "metadata": {},
   "outputs": [],
   "source": [
    "X_head_allcond = np.delete(X_head_allcond, recs_remove, axis=0)\n",
    "X_head_allcond[X_head_allcond == 0] = ma.masked\n",
    "\n",
    "time_Bout_allcond = np.delete(time_Bout_allcond,recs_remove, axis=0)\n",
    "time_Bout_allcond[time_Bout_allcond == 0] = ma.masked\n",
    "\n",
    "phi_smooth_allcond = np.delete(phi_smooth_allcond, recs_remove, axis=0)\n",
    "phi_smooth_allcond[phi_smooth_allcond == 0] = ma.masked\n",
    "speeds_head_allcond = np.delete(speeds_head_allcond, recs_remove,axis=0)\n",
    "speeds_head_allcond[phi_smooth_allcond.mask] = ma.masked\n",
    "\n",
    "stims_allcond = np.delete(stims_allcond, recs_remove, axis=0)\n",
    "stims_allcond[stims_allcond == 100] = ma.masked\n",
    "\n",
    "ecs_allcond = np.delete(ecs_allcond, recs_remove, axis=0)\n",
    "ecs_allcond[ecs_allcond == 100] = ma.masked"
   ]
  },
  {
   "cell_type": "code",
   "execution_count": 11,
   "id": "round-daniel",
   "metadata": {},
   "outputs": [],
   "source": [
    "## Load symbolic sequences\n",
    "\n",
    "path_to_filtered_data = '/Users/gautam.sridhar/Documents/Repos/Markov_Fish/Datasets/JM_Data/'\n",
    "f = h5py.File(path_to_filtered_data + 'kmeans_labels_K5_N1200_s8684.h5')\n",
    "lengths_all = np.array(f['MetaData/lengths_data'], dtype=int)\n",
    "labels_fish_allrec = ma.array(f['labels_fish'],dtype=int)\n",
    "state_trajs = ma.array(f['state_trajs'])\n",
    "f.close()\n",
    "\n",
    "# lengths_all = np.load('/Users/gautam.sridhar/Documents/Repos/ZebraBouts/Datasets/Full_Data/lengths_ex2_recordings.npy')\n",
    "# lengths_all = lengths"
   ]
  },
  {
   "cell_type": "code",
   "execution_count": 12,
   "id": "accredited-myrtle",
   "metadata": {},
   "outputs": [],
   "source": [
    "# recs_ = np.asarray(conditions[:,0], dtype=int)\n",
    "\n",
    "to_mask = 1300\n",
    "\n",
    "# maxL = np.max(lengths_all[recs_])\n",
    "maxL = np.max(lengths_all)\n",
    "\n",
    "labels_fish_allrec[labels_fish_allrec == to_mask] = ma.masked\n",
    "\n",
    "# labels_fishrec = to_mask * ma.ones((len(recs_), maxL))\n",
    "# labels_fishrec = labels_fish_allrec[recs_,:maxL+2]\n",
    "# labels_fishrec = np.delete(labels_fishrec,4,0)\n",
    "\n",
    "# labels_fishrec[labels_fishrec == to_mask] = ma.masked\n",
    "labels_fish = labels_fish_allrec\n",
    "\n",
    "# lengths_rem = np.delete(lengths_all, recs_remove)\n",
    "lengths_rem = lengths_all"
   ]
  },
  {
   "cell_type": "code",
   "execution_count": 13,
   "id": "valued-thinking",
   "metadata": {},
   "outputs": [
    {
     "name": "stdout",
     "output_type": "stream",
     "text": [
      "(463, 11651)\n"
     ]
    }
   ],
   "source": [
    "## Select Dataset\n",
    "np.random.seed(42)\n",
    "seeds = np.random.randint(0,10000,100)\n",
    "delay_range = np.arange(1,20,1)\n",
    "dt = 1\n",
    "div= 463\n",
    "n_modes=50\n",
    "labels_all= ma.concatenate(labels_fish,axis=0)\n",
    "print(labels_fish.shape)"
   ]
  },
  {
   "cell_type": "code",
   "execution_count": 14,
   "id": "coordinated-formula",
   "metadata": {},
   "outputs": [],
   "source": [
    "P_ensemble = np.load('/Users/gautam.sridhar/Documents/Repos/ZebraBouts/Datasets/Full_Data/P_ensemble_ex8_N1200_s8684.npy')"
   ]
  },
  {
   "cell_type": "code",
   "execution_count": 15,
   "id": "forward-thomson",
   "metadata": {},
   "outputs": [],
   "source": [
    "from scipy.sparse import diags,identity,coo_matrix, csr_matrix\n",
    "P_ensemble = csr_matrix(P_ensemble)"
   ]
  },
  {
   "cell_type": "code",
   "execution_count": 16,
   "id": "regional-former",
   "metadata": {},
   "outputs": [
    {
     "name": "stdout",
     "output_type": "stream",
     "text": [
      "3\n"
     ]
    }
   ],
   "source": [
    "import msmtools.estimation as msm_estimation\n",
    "delay = 3\n",
    "dt = 1\n",
    "print(delay)\n",
    "# lcs_ensemble,P_ensemble = op_calc.transition_matrix(labels_all,delay,return_connected=True)\n",
    "lcs_ensemble = msm_estimation.largest_connected_set(P_ensemble)\n",
    "inv_measure = op_calc.stationary_distribution(P_ensemble)\n",
    "final_labels = op_calc.get_connected_labels(labels_all,lcs_ensemble)\n",
    "R = op_calc.get_reversible_transition_matrix(P_ensemble)\n",
    "eigvals,eigvecs = op_calc.sorted_spectrum(R,k=10,seed=123)\n",
    "sorted_indices = np.argsort(eigvals.real)[::-1]\n",
    "eigvals = eigvals[sorted_indices][1:].real\n",
    "eigvals[np.abs(eigvals-1)<1e-12] = np.nan\n",
    "eigvals[eigvals<1e-12] = np.nan\n",
    "t_imp =  -(delay*dt)/np.log(np.abs(eigvals))\n",
    "eigfunctions = eigvecs.real/np.linalg.norm(eigvecs.real,axis=0)\n",
    "eigfunctions_traj = ma.array(eigfunctions)[final_labels,:]\n",
    "eigfunctions_traj[final_labels.mask] = ma.masked"
   ]
  },
  {
   "cell_type": "code",
   "execution_count": 17,
   "id": "amber-bible",
   "metadata": {},
   "outputs": [],
   "source": [
    "split_locs = []\n",
    "distorted_eigfs = np.zeros((eigfunctions.shape[0], eigfunctions.shape[1]-1))\n",
    "for i in range(1,eigfunctions.shape[1]):\n",
    "    phi = eigfunctions[:,i]\n",
    "    _,_,_,split_idx,_ = op_calc.optimal_partition(phi,inv_measure,P_ensemble,return_rho=True)\n",
    "\n",
    "    sort_range = np.sort(phi)\n",
    "    neg_range = np.linspace(-1,0, len(sort_range[0:split_idx]))\n",
    "    pos_range = np.linspace(0,1,len(sort_range[split_idx:]))\n",
    "    distort_r = np.hstack([neg_range,pos_range])\n",
    "    distort = np.zeros(phi.shape)\n",
    "\n",
    "    pos = [np.where(phi == a)[0][0] for a in np.sort(phi)]\n",
    "\n",
    "    for j in range(phi.shape[0]):\n",
    "        distort[pos[j]] = distort_r[j]\n",
    "\n",
    "    distorted_eigfs[:,i-1] = distort\n",
    "    split_locs.append(split_idx)"
   ]
  },
  {
   "cell_type": "code",
   "execution_count": 18,
   "id": "african-assignment",
   "metadata": {},
   "outputs": [],
   "source": [
    "distorted_trajs = ma.array(distorted_eigfs)[final_labels,:]\n",
    "distorted_trajs[final_labels.mask] = ma.masked\n",
    "\n",
    "distorted_fish = distorted_trajs.reshape(labels_fish.shape[0], labels_fish.shape[1], -1)\n",
    "\n",
    "dtrajs_fish_phi1 = distorted_fish[:,:,0]\n",
    "dtrajs_fish_phi2 = distorted_fish[:,:,1]"
   ]
  },
  {
   "cell_type": "code",
   "execution_count": 19,
   "id": "coordinate-uganda",
   "metadata": {},
   "outputs": [],
   "source": [
    "kms = np.load('/Users/gautam.sridhar/Documents/Repos/ZebraBouts/Results/pool_ex8_PCs/cg2_labels.npy')\n",
    "kmeans_labels = kms\n",
    "cluster_traj_all = ma.copy(final_labels)\n",
    "cluster_traj_all[~final_labels.mask] = ma.array(kmeans_labels)[final_labels[~final_labels.mask]]\n",
    "cluster_traj_all[final_labels.mask] = ma.masked\n",
    "\n",
    "cluster_fish = cluster_traj_all.reshape(labels_fish.shape[0],labels_fish.shape[1])\n",
    "cluster_fish_mask = cluster_fish.mask"
   ]
  },
  {
   "cell_type": "markdown",
   "id": "banner-management",
   "metadata": {},
   "source": [
    "## Prey Capture hunting rates"
   ]
  },
  {
   "cell_type": "code",
   "execution_count": 383,
   "id": "animal-noise",
   "metadata": {},
   "outputs": [
    {
     "name": "stdout",
     "output_type": "stream",
     "text": [
      "[387 388 389 390 391 392 393 394 395 396 397 398 399 400 401 402 403 404\n",
      " 405 406 407 408 409 410 411 412 413 414 415 416 417 418 419 420 421 422\n",
      " 423 424 425 426 427 428 429 430 431 432 433 434 435 436 437 438 439 440\n",
      " 441 442]\n"
     ]
    }
   ],
   "source": [
    "cond = 15\n",
    "\n",
    "pc_recs = np.where(conditions[:,1] == condition_labels[cond])[0]\n",
    "print(pc_recs)\n",
    "\n",
    "maxL = np.max(lengths_rem[pc_recs])\n",
    "lengths = lengths_rem[pc_recs]"
   ]
  },
  {
   "cell_type": "code",
   "execution_count": 384,
   "id": "commercial-carrier",
   "metadata": {},
   "outputs": [],
   "source": [
    "time_Bout = time_Bout_allcond[pc_recs,:maxL,:]\n",
    "ecs_pc = ecs_allcond[pc_recs,:maxL]"
   ]
  },
  {
   "cell_type": "code",
   "execution_count": 385,
   "id": "korean-bulgaria",
   "metadata": {},
   "outputs": [
    {
     "name": "stdout",
     "output_type": "stream",
     "text": [
      "(56, 2305, 2)\n",
      "(56, 2305)\n"
     ]
    }
   ],
   "source": [
    "print(time_Bout.shape)\n",
    "print(ecs_pc.shape)"
   ]
  },
  {
   "cell_type": "code",
   "execution_count": 386,
   "id": "universal-invite",
   "metadata": {},
   "outputs": [],
   "source": [
    "tmspace_clusters = np.load('/Users/gautam.sridhar/Documents/Repos/ZebraBouts/Datasets/Full_Data/spectral_split_g7.npy')[pc_recs]"
   ]
  },
  {
   "cell_type": "code",
   "execution_count": 387,
   "id": "typical-eagle",
   "metadata": {},
   "outputs": [
    {
     "name": "stdout",
     "output_type": "stream",
     "text": [
      "[0 5 6]\n"
     ]
    }
   ],
   "source": [
    "print(np.unique(tmspace_clusters))"
   ]
  },
  {
   "cell_type": "code",
   "execution_count": 388,
   "id": "polyphonic-davis",
   "metadata": {},
   "outputs": [],
   "source": [
    "posterior = np.load('/Users/gautam.sridhar/Documents/ZENITH/Figures/posterior_f.npy')[pc_recs]\n",
    "post_f = posterior/posterior.sum(axis=0)"
   ]
  },
  {
   "cell_type": "code",
   "execution_count": 391,
   "id": "viral-offset",
   "metadata": {},
   "outputs": [
    {
     "name": "stdout",
     "output_type": "stream",
     "text": [
      "0.02198577359546758 0.23556194441603617 0.2749514377872319\n",
      "0.04506281507388 0.23556194441603617 0.2749514377872319\n",
      "0.08664622634511077 0.23556194441603617 0.2749514377872319\n"
     ]
    },
    {
     "data": {
      "image/png": "[encoded data removed]",
      "text/plain": [
       "<Figure size 360x360 with 1 Axes>"
      ]
     },
     "metadata": {
      "needs_background": "light"
     },
     "output_type": "display_data"
    }
   ],
   "source": [
    "fig, ax = plt.subplots(1,1,figsize=(5,5))\n",
    "\n",
    "m_pc = []\n",
    "cil_pc = []\n",
    "ciu_pc = []\n",
    "\n",
    "for clus in [0,5,6]:\n",
    "    hunt_num = 0.0\n",
    "    for  cf in range(len(pc_recs)):\n",
    "        if ((time_Bout[cf,lengths[cf]-1,1] - time_Bout[cf,0,0])/700/60) > 5:\n",
    "            hunt_num += post_f[cf,clus]*(len(np.where(ecs_pc[cf] == 2)[0])/lengths[cf])\n",
    "    \n",
    "    print(hunt_num, cil,ciu)\n",
    "    ax.scatter(clus, hunt_num,c='C{}'.format(clus))\n",
    "ax.spines['top'].set_visible(False)\n",
    "ax.spines['right'].set_visible(False)"
   ]
  },
  {
   "cell_type": "code",
   "execution_count": 394,
   "id": "stopped-greene",
   "metadata": {},
   "outputs": [
    {
     "name": "stdout",
     "output_type": "stream",
     "text": [
      "0\n",
      "0.022085736133775895 0.020125141615169744 0.026077285855409225\n",
      "5\n",
      "0.04545856002100253 0.036630239388399606 0.058229253820704055\n",
      "6\n",
      "0.086780147181933 0.0679633529695132 0.10671522908558707\n"
     ]
    },
    {
     "data": {
      "image/png": "[encoded data removed]",
      "text/plain": [
       "<Figure size 360x360 with 1 Axes>"
      ]
     },
     "metadata": {
      "needs_background": "light"
     },
     "output_type": "display_data"
    }
   ],
   "source": [
    "fig, ax = plt.subplots(1,1,figsize=(5,5))\n",
    "\n",
    "m_pc = []\n",
    "cil_pc = []\n",
    "ciu_pc = []\n",
    "\n",
    "for clus in [0,5,6]:\n",
    "    print(clus)\n",
    "    hunt_rats = []\n",
    "    for i in range(100):\n",
    "        hunt_num = []\n",
    "        recs_ = np.random.choice(np.arange(len(pc_recs)),len(pc_recs),replace=True, p=post_f[:,clus])\n",
    "        for cf in recs_:\n",
    "            if ((time_Bout[cf,lengths[cf]-1,1] - time_Bout[cf,0,0])/700/60) > 5:\n",
    "                hunt_num.append(len(np.where(ecs_pc[cf] == 2)[0])/lengths[cf])\n",
    "        hunt_rats.append(np.mean(hunt_num))\n",
    "    m = np.mean(hunt_rats)\n",
    "    cil = np.nanpercentile(hunt_rats, 2.5)\n",
    "    ciu = np.nanpercentile(hunt_rats, 97.5)\n",
    "    ax.errorbar(clus, m, np.asarray([np.asarray(m-cil), np.asarray(ciu-m)])[:,np.newaxis],fmt='.', capsize=5, color='C{}'.format(clus))\n",
    "    m_pc.append(m)\n",
    "    cil_pc.append(cil)\n",
    "    ciu_pc.append(ciu)\n",
    "    \n",
    "    print(m, cil,ciu)\n",
    "\n",
    "ax.spines['top'].set_visible(False)\n",
    "ax.spines['right'].set_visible(False)\n",
    "# ax.set_ylim(0,8.5)\n",
    "# ax.set_xlabel('Clusters',fontsize=35)\n",
    "# ax.set_ylabel('EC events/min',fontsize=35)\n",
    "# plt.yticks(fontsize=30)\n",
    "# plt.xticks(rotation=70)\n",
    "# fig.savefig('/Users/gautam.sridhar/Documents/ZENITH/Figures/Fig6/LRW_ec_perc_ha.pdf')"
   ]
  }
 ],
 "metadata": {
  "kernelspec": {
   "display_name": "Python 3",
   "language": "python",
   "name": "python3"
  },
  "language_info": {
   "codemirror_mode": {
    "name": "ipython",
    "version": 3
   },
   "file_extension": ".py",
   "mimetype": "text/x-python",
   "name": "python",
   "nbconvert_exporter": "python",
   "pygments_lexer": "ipython3",
   "version": "3.8.2"
  }
 },
 "nbformat": 4,
 "nbformat_minor": 5
}
