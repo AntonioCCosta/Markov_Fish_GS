{
 "cells": [
  {
   "cell_type": "code",
   "execution_count": 1,
   "id": "illegal-fighter",
   "metadata": {},
   "outputs": [
    {
     "data": {
      "text/plain": [
       "<module 'simulation_functions' from '/Users/gautam.sridhar/Documents/Repos/Markov_Fish/utils/simulation_functions.py'>"
      ]
     },
     "execution_count": 1,
     "metadata": {},
     "output_type": "execute_result"
    }
   ],
   "source": [
    "#data format library\n",
    "import h5py\n",
    "\n",
    "#numpy\n",
    "import numpy as np\n",
    "import pandas as pd\n",
    "import numpy.ma as ma\n",
    "%matplotlib inline\n",
    "import matplotlib\n",
    "import matplotlib.pyplot as plt\n",
    "import matplotlib as mpl\n",
    "new_rc_params = {'text.usetex': False,\n",
    "\"svg.fonttype\": 'none'\n",
    "}\n",
    "mpl.rcParams.update(new_rc_params)\n",
    "plt.rcParams[\"font.family\"] = \"Times New Roman\"\n",
    "# %matplotlib notebook\n",
    "import sys\n",
    "sys.path.append('/Users/gautam.sridhar/Documents/Repos/Markov_Fish/utils/')\n",
    "import matplotlib.colors as pltcolors\n",
    "import os\n",
    "import copy\n",
    "import clustering_methods as cl\n",
    "import operator_calculations as op_calc\n",
    "import delay_embedding as embed\n",
    "import stats\n",
    "import time\n",
    "import simulation_functions as sfs\n",
    "\n",
    "np.random.seed(42)"
   ]
  },
  {
   "cell_type": "code",
   "execution_count": 6,
   "id": "stone-spanish",
   "metadata": {},
   "outputs": [],
   "source": [
    "path_to_filtered_data = '/Users/gautam.sridhar/Documents/Repos/Markov_Fish/Datasets/JM_Data/'\n",
    "f = h5py.File(path_to_filtered_data+'filtered_jmpool_kin.h5','r')\n",
    "lengths = np.array(f['MetaData/lengths_data'],dtype=int)\n",
    "bouttypes= ma.array(f['bout_types'], dtype=int)\n",
    "# stims = ma.array(f['stims'])\n",
    "# ecs = ma.array(f['eye_convergence'])\n",
    "\n",
    "##shapes are n_fish, max_n_bouts,dim of variable\n",
    "\n",
    "bouttypes_allcond= ma.array(f['bout_types'])\n",
    "stims_allcond = ma.array(f['stims'])\n",
    "ecs_allcond = ma.array(f['eye_convergence'])\n",
    "ecs_st_allcond = ma.array(f['eye_convergence_state'])\n",
    "time_Bout_allcond = ma.array(f['times_bouts']) #raw times bouts\n",
    "\n",
    "#shapes are n_fish, max_n_bouts,dim of variable\n",
    "X_head_allcond = ma.array(f['head_pos'])\n",
    "phi_smooth_allcond = ma.array(f['orientation_smooth'])\n",
    "speeds_head_allcond = ma.array(f['speed_head'])\n",
    "f.close()"
   ]
  },
  {
   "cell_type": "code",
   "execution_count": 7,
   "id": "aging-belarus",
   "metadata": {},
   "outputs": [],
   "source": [
    "time_Bout_allcond[time_Bout_allcond == 0] = ma.masked\n",
    "X_head_allcond[X_head_allcond == 0] = ma.masked\n",
    "phi_smooth_allcond[phi_smooth_allcond == 0] = ma.masked\n",
    "speeds_head_allcond[phi_smooth_allcond.mask] = ma.masked\n",
    "bouttypes_allcond[bouttypes_allcond == 15] = ma.masked\n",
    "ecs_allcond[ecs_allcond == 100] = ma.masked"
   ]
  },
  {
   "cell_type": "code",
   "execution_count": 12,
   "id": "native-physiology",
   "metadata": {},
   "outputs": [],
   "source": [
    "condition_labels = ['Light (5x5cm)','Light (1x5cm)','Looming(5x5cm)','Dark_Transitions(5x5cm)',\n",
    "                    'Phototaxis','Optomotor Response (1x5cm)','Optokinetic Response (5x5cm)','Dark (5x5cm)','3 min Light<->Dark(5x5cm)',\n",
    "                    'Prey Capture Param. (2.5x2.5cm)','Prey Capture Param. RW. (2.5x2.5cm)',\n",
    "                    'Prey Capture Rot.(2.5x2.5cm)','Prey capture Rot. RW. (2.5x2.5cm)','Light RW. (2.5x2.5cm)']\n",
    "\n",
    "condition_recs = np.array([[453,463],[121,133],[49,109],[22,49],[163,193],[109,121],\n",
    "                           [133,164],[443,453],[0,22],\n",
    "                           [193,258],[304,387],[258,273],[273,304],\n",
    "                           [387,443]])"
   ]
  },
  {
   "cell_type": "code",
   "execution_count": 13,
   "id": "prime-negative",
   "metadata": {},
   "outputs": [
    {
     "name": "stdout",
     "output_type": "stream",
     "text": [
      "14\n"
     ]
    }
   ],
   "source": [
    "print(len(condition_labels))"
   ]
  },
  {
   "cell_type": "code",
   "execution_count": 14,
   "id": "sapphire-latter",
   "metadata": {},
   "outputs": [],
   "source": [
    "conditions = np.zeros((np.max(condition_recs),2),dtype='object')\n",
    "for k in range(len(condition_recs)):\n",
    "    t0,tf = condition_recs[k]\n",
    "    conditions[t0:tf,0] = np.arange(t0,tf)\n",
    "    conditions[t0:tf,1] = [condition_labels[k] for t in range(t0,tf)]"
   ]
  },
  {
   "cell_type": "code",
   "execution_count": 3,
   "id": "collected-anxiety",
   "metadata": {},
   "outputs": [],
   "source": [
    "## Load symbolic sequences\n",
    "\n",
    "path_to_filtered_data = '/Users/gautam.sridhar/Documents/Repos/Markov_Fish/Datasets/JM_Data/'\n",
    "f = h5py.File(path_to_filtered_data + 'kmeans_labels_K5_N1200_s8684.h5')\n",
    "lengths_all = np.array(f['MetaData/lengths_data'], dtype=int)\n",
    "labels_fish = ma.array(f['labels_fish'],dtype=int)\n",
    "state_trajs = ma.array(f['state_trajs'])\n",
    "f.close()\n"
   ]
  },
  {
   "cell_type": "code",
   "execution_count": 4,
   "id": "civic-calibration",
   "metadata": {},
   "outputs": [],
   "source": [
    "to_mask = 1300\n",
    "maxL = np.max(lengths_all)\n",
    "\n",
    "labels_fish[labels_fish == to_mask] = ma.masked"
   ]
  },
  {
   "cell_type": "code",
   "execution_count": 8,
   "id": "russian-brunswick",
   "metadata": {},
   "outputs": [
    {
     "name": "stdout",
     "output_type": "stream",
     "text": [
      "(463,) (463,)\n"
     ]
    }
   ],
   "source": [
    "print(lengths.shape,lengths_all.shape)"
   ]
  },
  {
   "cell_type": "code",
   "execution_count": 9,
   "id": "viral-tooth",
   "metadata": {},
   "outputs": [
    {
     "name": "stdout",
     "output_type": "stream",
     "text": [
      "(463, 11651)\n"
     ]
    }
   ],
   "source": [
    "## Select Dataset\n",
    "np.random.seed(42)\n",
    "seeds = np.random.randint(0,10000,100)\n",
    "delay_range = np.arange(1,20,1)\n",
    "dt = 1\n",
    "div= 463\n",
    "n_modes=50\n",
    "labels_all= ma.concatenate(labels_fish,axis=0)\n",
    "print(labels_fish.shape)"
   ]
  },
  {
   "cell_type": "code",
   "execution_count": 15,
   "id": "colonial-coordinate",
   "metadata": {},
   "outputs": [],
   "source": [
    "P_ensemble = np.load('/Users/gautam.sridhar/Documents/Repos/ZebraBouts/Datasets/Full_Data/P_ensemble_ex8_N1200_s8684.npy')"
   ]
  },
  {
   "cell_type": "code",
   "execution_count": 16,
   "id": "still-spiritual",
   "metadata": {},
   "outputs": [],
   "source": [
    "from scipy.sparse import diags,identity,coo_matrix, csr_matrix\n",
    "P_ensemble = csr_matrix(P_ensemble)\n",
    "\n",
    "lcs_ensemble = msm_estimation.largest_connected_set(P_ensemble)\n",
    "inv_measure = op_calc.stationary_distribution(P_ensemble)\n",
    "final_labels = op_calc.get_connected_labels(labels_all,lcs_ensemble)"
   ]
  },
  {
   "cell_type": "code",
   "execution_count": 17,
   "id": "remarkable-acrobat",
   "metadata": {},
   "outputs": [
    {
     "name": "stdout",
     "output_type": "stream",
     "text": [
      "3\n"
     ]
    }
   ],
   "source": [
    "# Load eigenfunctions\n",
    "\n",
    "eigfunctions = np.load(path_to_filtered_data + 'eigfs_n1200.npy')\n",
    "phi1 = eigfunctions[:,1]\n",
    "phi2 = eigfunctions[:,2]\n",
    "phi3 = eigfunctions[:,3]\n",
    "\n",
    "# Uncomment to discover eigenfunctions and eigenvalues from ensemble transition matrix. \n",
    "# The estimation of eigenvalues is done through ARPACK, which is stochastic in nature. \n",
    "# This can result in the eigenvectors flipping sign. \n",
    "# If that happens, you can change the random seed in op_calc.sorted_spectrum()\n",
    "\n",
    "# from scipy.sparse import diags,identity,coo_matrix, csr_matrix\n",
    "# P_ensemble = csr_matrix(P_ensemble)\n",
    "\n",
    "# import msmtools.estimation as msm_estimation\n",
    "# lcs_ensemble,P_ensemble = op_calc.transition_matrix(labels_all,delay,return_connected=True)\n",
    "# R = op_calc.get_reversible_transition_matrix(P_ensemble)\n",
    "# eigvals,eigvecs = op_calc.sorted_spectrum(R,k=10,seed=123) \n",
    "# sorted_indices = np.argsort(eigvals.real)[::-1]\n",
    "# eigvals = eigvals[sorted_indices][1:].real\n",
    "# eigvals[np.abs(eigvals-1)<1e-12] = np.nan\n",
    "# eigvals[eigvals<1e-12] = np.nan\n",
    "# t_imp =  -(delay*dt)/np.log(np.abs(eigvals))\n",
    "# eigfunctions = eigvecs.real/np.linalg.norm(eigvecs.real,axis=0)\n",
    "# eigfunctions_traj = ma.array(eigfunctions)[final_labels,:]\n",
    "# eigfunctions_traj[final_labels.mask] = ma.masked"
   ]
  },
  {
   "cell_type": "code",
   "execution_count": 18,
   "id": "apparent-software",
   "metadata": {},
   "outputs": [],
   "source": [
    "split_locs = []\n",
    "distorted_eigfs = np.zeros((eigfunctions.shape[0], eigfunctions.shape[1]-1))\n",
    "for i in range(1,eigfunctions.shape[1]):\n",
    "    phi = eigfunctions[:,i]\n",
    "    _,_,_,split_idx,_ = op_calc.optimal_partition(phi,inv_measure,P_ensemble,return_rho=True)\n",
    "\n",
    "    sort_range = np.sort(phi)\n",
    "    neg_range = np.linspace(-1,0, len(sort_range[0:split_idx]))\n",
    "    pos_range = np.linspace(0,1,len(sort_range[split_idx:]))\n",
    "    distort_r = np.hstack([neg_range,pos_range])\n",
    "    distort = np.zeros(phi.shape)\n",
    "\n",
    "    pos = [np.where(phi == a)[0][0] for a in np.sort(phi)]\n",
    "\n",
    "    for j in range(phi.shape[0]):\n",
    "        distort[pos[j]] = distort_r[j]\n",
    "\n",
    "    distorted_eigfs[:,i-1] = distort\n",
    "    split_locs.append(split_idx)"
   ]
  },
  {
   "cell_type": "code",
   "execution_count": 19,
   "id": "ongoing-record",
   "metadata": {},
   "outputs": [],
   "source": [
    "distorted_trajs = ma.array(distorted_eigfs)[final_labels,:]\n",
    "distorted_trajs[final_labels.mask] = ma.masked\n",
    "\n",
    "distorted_fish = distorted_trajs.reshape(labels_fish.shape[0], labels_fish.shape[1], -1)\n",
    "\n",
    "dtrajs_fish_phi1 = distorted_fish[:,:,0]\n",
    "dtrajs_fish_phi2 = distorted_fish[:,:,1]"
   ]
  },
  {
   "cell_type": "code",
   "execution_count": 20,
   "id": "powered-commission",
   "metadata": {},
   "outputs": [],
   "source": [
    "kms = np.load('/Users/gautam.sridhar/Documents/Repos/Markov_Fish/Datasets/JM_Data/cg2_labels.npy')\n",
    "kmeans_labels = kms\n",
    "cluster_traj_all = ma.copy(final_labels)\n",
    "cluster_traj_all[~final_labels.mask] = ma.array(kmeans_labels)[final_labels[~final_labels.mask]]\n",
    "cluster_traj_all[final_labels.mask] = ma.masked\n",
    "\n",
    "cluster_fish = cluster_traj_all.reshape(labels_fish.shape[0],labels_fish.shape[1])\n",
    "cluster_fish_mask = cluster_fish.mask"
   ]
  },
  {
   "cell_type": "markdown",
   "id": "specialized-macedonia",
   "metadata": {},
   "source": [
    "## Prey Capture hunting rates"
   ]
  },
  {
   "cell_type": "code",
   "execution_count": 52,
   "id": "commercial-nebraska",
   "metadata": {},
   "outputs": [
    {
     "name": "stdout",
     "output_type": "stream",
     "text": [
      "[193 194 195 196 197 198 199 200 201 202 203 204 205 206 207 208 209 210\n",
      " 211 212 213 214 215 216 217 218 219 220 221 222 223 224 225 226 227 228\n",
      " 229 230 231 232 233 234 235 236 237 238 239 240 241 242 243 244 245 246\n",
      " 247 248 249 250 251 252 253 254 255 256 257]\n"
     ]
    }
   ],
   "source": [
    "cond = 9\n",
    "\n",
    "pc_recs = np.where(conditions[:,1] == condition_labels[cond])[0]\n",
    "# pc_recs = np.arange(193,442)\n",
    "print(pc_recs)\n",
    "\n",
    "maxL = np.max(lengths_all[pc_recs])\n",
    "lengths = lengths_all[pc_recs]"
   ]
  },
  {
   "cell_type": "code",
   "execution_count": 53,
   "id": "oriented-premiere",
   "metadata": {},
   "outputs": [],
   "source": [
    "time_Bout = time_Bout_allcond[pc_recs,:maxL,:]\n",
    "ecs_pc = ecs_allcond[pc_recs,:maxL]"
   ]
  },
  {
   "cell_type": "code",
   "execution_count": 54,
   "id": "convenient-discipline",
   "metadata": {},
   "outputs": [
    {
     "name": "stdout",
     "output_type": "stream",
     "text": [
      "(65, 3068, 2)\n",
      "(65, 3068)\n"
     ]
    }
   ],
   "source": [
    "print(time_Bout.shape)\n",
    "print(ecs_pc.shape)"
   ]
  },
  {
   "cell_type": "code",
   "execution_count": 55,
   "id": "considerable-scheme",
   "metadata": {},
   "outputs": [],
   "source": [
    "tmspace_clusters = np.load('/Users/gautam.sridhar/Documents/Repos/ZebraBouts/Datasets/Full_Data/spectral_split_g7.npy')[pc_recs]"
   ]
  },
  {
   "cell_type": "code",
   "execution_count": 56,
   "id": "surprising-relation",
   "metadata": {},
   "outputs": [
    {
     "name": "stdout",
     "output_type": "stream",
     "text": [
      "65\n",
      "[0 2 3 4 5 6]\n"
     ]
    }
   ],
   "source": [
    "print(len(tmspace_clusters))\n",
    "print(np.unique(tmspace_clusters))"
   ]
  },
  {
   "cell_type": "code",
   "execution_count": 58,
   "id": "dense-length",
   "metadata": {
    "scrolled": true
   },
   "outputs": [
    {
     "data": {
      "image/png": "[encoded data removed]",
      "text/plain": [
       "<Figure size 360x360 with 1 Axes>"
      ]
     },
     "metadata": {
      "needs_background": "light"
     },
     "output_type": "display_data"
    }
   ],
   "source": [
    "fig, ax = plt.subplots(1,1,figsize=(5,5))\n",
    "\n",
    "m_pc = []\n",
    "cil_pc = []\n",
    "ciu_pc = []\n",
    "\n",
    "for i,clus in enumerate([0,3,4,5,6]):\n",
    "    hunt_num = []\n",
    "    for cf in np.where(tmspace_clusters == clus)[0]:\n",
    "        if ((time_Bout[cf,lengths[cf]-1,1] - time_Bout[cf,0,0])/700/60) > 5:\n",
    "            hunt_num.append(len(np.where(ecs_pc[cf] == 2)[0])/lengths[cf])\n",
    "    \n",
    "#     print(hunt_num)\n",
    "    m, cil, ciu = stats.bootstrap(hunt_num,n_times=1000)\n",
    "    \n",
    "    ax.errorbar(i,m, [m-cil,ciu-m], fmt='.',capsize=5,color='C{}'.format(clus))\n",
    "ax.spines['top'].set_visible(False)\n",
    "ax.spines['right'].set_visible(False)"
   ]
  },
  {
   "cell_type": "code",
   "execution_count": 59,
   "id": "taken-episode",
   "metadata": {},
   "outputs": [
    {
     "name": "stdout",
     "output_type": "stream",
     "text": [
      "[387 388 389 390 391 392 393 394 395 396 397 398 399 400 401 402 403 404\n",
      " 405 406 407 408 409 410 411 412 413 414 415 416 417 418 419 420 421 422\n",
      " 423 424 425 426 427 428 429 430 431 432 433 434 435 436 437 438 439 440\n",
      " 441 442]\n"
     ]
    }
   ],
   "source": [
    "cond = 13\n",
    "\n",
    "pc_recs = np.where(conditions[:,1] == condition_labels[cond])[0]\n",
    "# pc_recs = np.arange(193,442)\n",
    "print(pc_recs)\n",
    "\n",
    "maxL = np.max(lengths_all[pc_recs])\n",
    "lengths = lengths_all[pc_recs]"
   ]
  },
  {
   "cell_type": "code",
   "execution_count": 60,
   "id": "collect-notebook",
   "metadata": {},
   "outputs": [],
   "source": [
    "time_Bout = time_Bout_allcond[pc_recs,:maxL,:]\n",
    "ecs_pc = ecs_allcond[pc_recs,:maxL]"
   ]
  },
  {
   "cell_type": "code",
   "execution_count": 61,
   "id": "recreational-eligibility",
   "metadata": {},
   "outputs": [
    {
     "name": "stdout",
     "output_type": "stream",
     "text": [
      "(56, 2305, 2)\n",
      "(56, 2305)\n"
     ]
    }
   ],
   "source": [
    "print(time_Bout.shape)\n",
    "print(ecs_pc.shape)"
   ]
  },
  {
   "cell_type": "code",
   "execution_count": 62,
   "id": "external-tyler",
   "metadata": {},
   "outputs": [],
   "source": [
    "tmspace_clusters = np.load('/Users/gautam.sridhar/Documents/Repos/ZebraBouts/Datasets/Full_Data/spectral_split_g7.npy')[pc_recs]"
   ]
  },
  {
   "cell_type": "code",
   "execution_count": 63,
   "id": "elder-stupid",
   "metadata": {},
   "outputs": [
    {
     "name": "stdout",
     "output_type": "stream",
     "text": [
      "56\n",
      "[0 5 6]\n"
     ]
    }
   ],
   "source": [
    "print(len(tmspace_clusters))\n",
    "print(np.unique(tmspace_clusters))"
   ]
  },
  {
   "cell_type": "code",
   "execution_count": 64,
   "id": "arbitrary-dictionary",
   "metadata": {
    "scrolled": true
   },
   "outputs": [
    {
     "data": {
      "image/png": "[encoded data removed]",
      "text/plain": [
       "<Figure size 360x360 with 1 Axes>"
      ]
     },
     "metadata": {
      "needs_background": "light"
     },
     "output_type": "display_data"
    }
   ],
   "source": [
    "fig, ax = plt.subplots(1,1,figsize=(5,5))\n",
    "\n",
    "m_pc = []\n",
    "cil_pc = []\n",
    "ciu_pc = []\n",
    "\n",
    "for i,clus in enumerate([0,5,6]):\n",
    "    hunt_num = []\n",
    "    for cf in np.where(tmspace_clusters == clus)[0]:\n",
    "        if ((time_Bout[cf,lengths[cf]-1,1] - time_Bout[cf,0,0])/700/60) > 5:\n",
    "            hunt_num.append(len(np.where(ecs_pc[cf] == 2)[0])/lengths[cf])\n",
    "    \n",
    "#     print(hunt_num)\n",
    "    m, cil, ciu = stats.bootstrap(hunt_num,n_times=1000)\n",
    "    \n",
    "    ax.errorbar(i,m, [m-cil,ciu-m], fmt='.',capsize=5,color='C{}'.format(clus))\n",
    "ax.spines['top'].set_visible(False)\n",
    "ax.spines['right'].set_visible(False)"
   ]
  },
  {
   "cell_type": "code",
   "execution_count": null,
   "id": "based-reserve",
   "metadata": {},
   "outputs": [],
   "source": []
  }
 ],
 "metadata": {
  "kernelspec": {
   "display_name": "Python 3",
   "language": "python",
   "name": "python3"
  },
  "language_info": {
   "codemirror_mode": {
    "name": "ipython",
    "version": 3
   },
   "file_extension": ".py",
   "mimetype": "text/x-python",
   "name": "python",
   "nbconvert_exporter": "python",
   "pygments_lexer": "ipython3",
   "version": "3.8.2"
  }
 },
 "nbformat": 4,
 "nbformat_minor": 5
}
