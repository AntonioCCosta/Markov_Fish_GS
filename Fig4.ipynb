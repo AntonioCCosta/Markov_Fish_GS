{
 "cells": [
  {
   "cell_type": "code",
   "execution_count": 1,
   "id": "settled-dressing",
   "metadata": {},
   "outputs": [
    {
     "data": {
      "text/plain": [
       "<module 'operator_calculations' from '/Users/gautam.sridhar/Documents/Repos/Markov_Fish/utils/operator_calculations.py'>"
      ]
     },
     "execution_count": 1,
     "metadata": {},
     "output_type": "execute_result"
    }
   ],
   "source": [
    "#data format library\n",
    "import h5py\n",
    "\n",
    "#numpy\n",
    "import numpy as np\n",
    "import pandas as pd\n",
    "import numpy.ma as ma\n",
    "%matplotlib inline\n",
    "import matplotlib\n",
    "import matplotlib.pyplot as plt\n",
    "import matplotlib as mpl\n",
    "new_rc_params = {'text.usetex': False,\n",
    "\"svg.fonttype\": 'none'\n",
    "}\n",
    "mpl.rcParams.update(new_rc_params)\n",
    "plt.rcParams[\"font.family\"] = \"Times New Roman\"\n",
    "# %matplotlib notebook\n",
    "import sys\n",
    "sys.path.append('/Users/gautam.sridhar/Documents/Repos/Markov_Fish/utils/')\n",
    "import matplotlib.colors as pltcolors\n",
    "import os\n",
    "import copy\n",
    "import clustering_methods as cl\n",
    "import operator_calculations as op_calc\n",
    "import delay_embedding as embed\n",
    "import stats\n",
    "import time\n",
    "\n",
    "np.random.seed(42)\n",
    "\n",
    "import importlib\n",
    "importlib.reload(op_calc)"
   ]
  },
  {
   "cell_type": "code",
   "execution_count": 14,
   "id": "loaded-belize",
   "metadata": {},
   "outputs": [
    {
     "name": "stdout",
     "output_type": "stream",
     "text": [
      "<KeysViewHDF5 ['best_alphas', 'conf_matrices', 'test_acc', 'train_acc']>\n"
     ]
    }
   ],
   "source": [
    "path_to_filtered_data = '/Users/gautam.sridhar/Documents/Repos/ZebraBouts/Results/'\n",
    "f = h5py.File(path_to_filtered_data + 'pool_ex8_PCs/Cross_val.h5')\n",
    "print(f.keys())\n",
    "best_alphas = np.array(f['best_alphas'])\n",
    "test_acc = np.array(f['test_acc'])\n",
    "train_acc = np.array(f['train_acc'])\n",
    "conf_matrices_full = np.array(f['conf_matrices'])\n",
    "# labels_fish_allrec = ma.array(f['labels_fish'],dtype=int)\n",
    "# state_trajs = ma.array(f['state_trajs'])\n",
    "f.close()"
   ]
  },
  {
   "cell_type": "code",
   "execution_count": 15,
   "id": "narrative-above",
   "metadata": {},
   "outputs": [],
   "source": [
    "model_test_acc = []\n",
    "for i in range(33):\n",
    "    model_test_acc.append(test_acc[i*100:i*100+100])\n",
    "    \n",
    "model_train_acc = []\n",
    "for i in range(33):\n",
    "    model_train_acc.append(train_acc[i*100:i*100+100])"
   ]
  },
  {
   "cell_type": "code",
   "execution_count": 16,
   "id": "dedicated-spine",
   "metadata": {},
   "outputs": [],
   "source": [
    "n_states = np.array([2,3,4,5,6,7,8,9])\n",
    "n_states = np.append(n_states, np.round(np.logspace(1,3,25,base=10)).astype(int))"
   ]
  },
  {
   "cell_type": "code",
   "execution_count": 17,
   "id": "center-detector",
   "metadata": {},
   "outputs": [
    {
     "data": {
      "image/png": "[encoded data removed]",
      "text/plain": [
       "<Figure size 504x504 with 1 Axes>"
      ]
     },
     "metadata": {
      "needs_background": "light"
     },
     "output_type": "display_data"
    }
   ],
   "source": [
    "# Accuracy train v test\n",
    "\n",
    "fig, ax = plt.subplots(1,1, figsize=(7,7))\n",
    "mean,cil,ciu = np.vstack(model_train_acc).mean(axis=1),np.percentile(np.vstack(model_train_acc),2.5,axis=1),np.percentile(np.vstack(model_train_acc),97.5,axis=1)\n",
    "ax.errorbar(n_states,mean,yerr = [mean-cil,ciu-mean],marker='o',capsize=3)\n",
    "\n",
    "mean,cil,ciu = np.vstack(model_test_acc).mean(axis=1),np.percentile(np.vstack(model_test_acc),2.5,axis=1),np.percentile(np.vstack(model_test_acc),97.5,axis=1)\n",
    "\n",
    "ax.errorbar(n_states,mean,yerr = [mean-cil,ciu-mean],marker='o',capsize=3)\n",
    "ax.set_xscale('log')\n",
    "ax.set_ylim(0,1.1)\n",
    "# ax.axhline(accuracy_score(y_test, np.random.choice(y_test, len(y_test) ,replace=False)),c='k')\n",
    "\n",
    "ax.spines['top'].set_visible(False)\n",
    "ax.spines['right'].set_visible(False)\n",
    "\n",
    "# plt.savefig('/Users/gautam.sridhar/Documents/ZENITH/Figures/Fig4/Nstate_logreg_new.pdf')\n",
    "\n",
    "# plt.xlim(0,20)"
   ]
  },
  {
   "cell_type": "code",
   "execution_count": 18,
   "id": "lovely-thumbnail",
   "metadata": {},
   "outputs": [
    {
     "name": "stdout",
     "output_type": "stream",
     "text": [
      "(14, 14)\n"
     ]
    }
   ],
   "source": [
    "print(conf_matrices_full[i].shape)"
   ]
  },
  {
   "cell_type": "code",
   "execution_count": 19,
   "id": "authorized-picnic",
   "metadata": {},
   "outputs": [
    {
     "data": {
      "image/png": "[encoded data removed]",
      "text/plain": [
       "<Figure size 720x720 with 1 Axes>"
      ]
     },
     "metadata": {
      "needs_background": "light"
     },
     "output_type": "display_data"
    }
   ],
   "source": [
    "# Confusion Matrix at particular q\n",
    "\n",
    "fig,ax = plt.subplots(1,1, figsize=(10,10))\n",
    "\n",
    "normcfs = []\n",
    "for i in range(1100,1200):\n",
    "    normcfs.append(conf_matrices_full[i]/np.sum(conf_matrices_full[i],axis=1)[:,np.newaxis])\n",
    "avg_normcf = np.mean(normcfs,axis=0)\n",
    "\n",
    "# normcf = conf_matrices_full[304]/np.sum(conf_matrices_full[304],axis=1)[:,np.newaxis]\n",
    "a = ax.imshow(avg_normcf, cmap='hot', vmax = 1., vmin=0.)\n",
    "# plt.savefig('/Users/gautam.sridhar/Documents/ZENITH/Figures/Fig4/qstate_conf_mar.pdf')\n",
    "\n",
    "\n",
    "# fig.colorbar(a)"
   ]
  }
 ],
 "metadata": {
  "kernelspec": {
   "display_name": "Python 3",
   "language": "python",
   "name": "python3"
  },
  "language_info": {
   "codemirror_mode": {
    "name": "ipython",
    "version": 3
   },
   "file_extension": ".py",
   "mimetype": "text/x-python",
   "name": "python",
   "nbconvert_exporter": "python",
   "pygments_lexer": "ipython3",
   "version": "3.8.2"
  }
 },
 "nbformat": 4,
 "nbformat_minor": 5
}
